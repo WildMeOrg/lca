{
 "cells": [
  {
   "cell_type": "code",
   "execution_count": 1,
   "metadata": {},
   "outputs": [],
   "source": [
    "import matplotlib.pyplot as plt\n",
    "import json\n",
    "from run import run as run_lca\n",
    "from run_baseline import run as run_baseline\n",
    "from tools import *\n",
    "from init_logger import init_logger\n",
    "import os\n",
    "import ga_driver\n",
    "import numpy as np\n",
    "import exp_scores as es\n",
    "import gamma_scores as gs\n",
    "import bayesian_scores as bs\n",
    "import extexp_scores as ees\n",
    "import logistic_scores\n",
    "import isotonic_scores\n",
    "from kernel_density_scores import kernel_density_scores\n",
    "\n",
    "%load_ext autoreload\n",
    "%autoreload 2"
   ]
  },
  {
   "cell_type": "code",
   "execution_count": 2,
   "metadata": {},
   "outputs": [],
   "source": [
    "import weighter\n",
    "\n",
    "config = get_config(\"configs/config_spermwhale.yaml\")\n",
    "lca_config = config['lca']\n",
    "db_path = os.path.join(lca_config['db_path'], config['exp_name'])\n",
    "\n",
    "verifier_file =  os.path.join(db_path, \"verifiers_probs.json\")\n",
    "wgtrs_calib_dict = load_json(verifier_file)\n",
    "lca_config['logging']['log_file'] = None\n",
    "lca_params = generate_ga_params(lca_config)\n",
    "probs = wgtrs_calib_dict['miewid']\n",
    "# wgtrs = ga_driver.generate_weighters(\n",
    "#             lca_params, wgtrs_calib_dict\n",
    "#         )\n",
    "exp_scorer = es.exp_scores.create_from_samples(\n",
    "            probs['gt_positive_probs'], probs['gt_negative_probs']\n",
    "        )\n",
    "gamma_scorer = gs.gamma_scores.create_from_samples(\n",
    "            probs['gt_positive_probs'], probs['gt_negative_probs']\n",
    "        )\n",
    "\n",
    "pos_scores = probs[\"gt_positive_probs\"]\n",
    "neg_scores = probs[\"gt_negative_probs\"]\n",
    "\n",
    "# wgtr = wgtrs[0]#weighter.weighter(gamma_scorer, config[\"lca\"][\"edge_weights\"]['prob_human_correct'])"
   ]
  },
  {
   "cell_type": "code",
   "execution_count": 3,
   "metadata": {},
   "outputs": [
    {
     "data": {
      "text/plain": [
       "'tmp/spermwhale_encounters_kde_full/verifiers_probs.json'"
      ]
     },
     "execution_count": 3,
     "metadata": {},
     "output_type": "execute_result"
    }
   ],
   "source": [
    "verifier_file"
   ]
  },
  {
   "cell_type": "code",
   "execution_count": null,
   "metadata": {},
   "outputs": [],
   "source": []
  },
  {
   "cell_type": "code",
   "execution_count": 4,
   "metadata": {},
   "outputs": [
    {
     "name": "stdout",
     "output_type": "stream",
     "text": [
      "14868\n"
     ]
    }
   ],
   "source": [
    "from tools import load_json, load_pickle\n",
    "\n",
    "exp_name = config['exp_name']\n",
    "\n",
    "initial_edges = load_json(f\"/ekaterina/work/src/lca/lca/tmp/initial_edges_{exp_name}.json\")\n",
    "\n",
    "print(len(initial_edges))\n",
    "\n",
    "\n",
    "pos = [s for (a0, a1, s, w, c) in initial_edges if c]\n",
    "neg = [s for (a0, a1, s, w, c) in initial_edges if not c]\n",
    "\n",
    "pos_weights = [w/10 for (a0, a1, s, w, c) in initial_edges if c]\n",
    "neg_weights = [w/10 for (a0, a1, s, w, c) in initial_edges if not c]"
   ]
  },
  {
   "cell_type": "code",
   "execution_count": 5,
   "metadata": {},
   "outputs": [
    {
     "data": {
      "text/plain": [
       "(14868, 5)"
      ]
     },
     "execution_count": 5,
     "metadata": {},
     "output_type": "execute_result"
    }
   ],
   "source": [
    "np.array(initial_edges).shape"
   ]
  },
  {
   "cell_type": "code",
   "execution_count": 6,
   "metadata": {},
   "outputs": [
    {
     "name": "stdout",
     "output_type": "stream",
     "text": [
      "41\n",
      "151\n"
     ]
    }
   ],
   "source": [
    "needed_total = 200\n",
    "min_samples_from_bin = 1\n",
    "max_samples_from_bin = 50\n",
    "\n",
    "\n",
    "num_bins = 100\n",
    "scores = [s for _, _, s,_, _ in initial_edges]\n",
    "min_score = min(scores)\n",
    "max_score = max(scores)\n",
    "delta_score = (max_score - min_score) / (num_bins-1)\n",
    "bins = [[] for _ in range(num_bins)]\n",
    "for n0, n1, s, w, c in initial_edges:\n",
    "    i = int((s - min_score) / delta_score)\n",
    "    bins[i].append((n0, n1, s, w, c))\n",
    "\n",
    "logger = logging.getLogger('lca')\n",
    "logger.info(f\"Bin sizes: {[len(b) for b in bins]}\")\n",
    "\n",
    "# 2. Shuffle each bin\n",
    "pos_triples = []\n",
    "neg_triples = []\n",
    "# 3. Pull edges from the bins\n",
    "for i in range(len(bins)):\n",
    "    batch_sz = np.clip(int(needed_total * len(bins[i])/len(scores)), min_samples_from_bin, len(bins[i]))\n",
    "    rnd_edges = [bins[i][j] for j in np.random.choice(len(bins[i]), batch_sz, replace=False)]\n",
    "    for e in rnd_edges:\n",
    "        if e[-1]:\n",
    "            pos_triples.append(e)\n",
    "        else:\n",
    "            neg_triples.append(e)\n",
    "\n",
    "print(len(pos_triples))\n",
    "print(len(neg_triples))"
   ]
  },
  {
   "cell_type": "code",
   "execution_count": 7,
   "metadata": {},
   "outputs": [
    {
     "data": {
      "image/png": "[encoded data removed]",
      "text/plain": [
       "<Figure size 432x288 with 1 Axes>"
      ]
     },
     "metadata": {
      "needs_background": "light"
     },
     "output_type": "display_data"
    }
   ],
   "source": [
    "plt.hist([s for (_, _, s, _, _) in pos_triples], bins=35, density=True, alpha=0.6, color='g')\n",
    "plt.hist([s for (_, _, s, _, _) in neg_triples], bins=35, density=True, alpha=0.6, color='r')\n",
    "\n",
    "scorer = kernel_density_scores.create_from_samples(\n",
    "            [s for (_, _, s, _, _) in pos_triples], [s for (_, _, s, _, _) in neg_triples]\n",
    "        )\n",
    "# scorer = kernel_density_scores.create_from_samples(\n",
    "#             pos, neg\n",
    "#         )\n",
    "xs = np.linspace(0, 1, 100)\n",
    "wgtr = weighter.weighter(scorer, config[\"lca\"][\"edge_weights\"]['prob_human_correct'])\n",
    "pos_ys = [wgtr.scorer.get_pos_neg(x)[0] for x in xs]\n",
    "neg_ys = [wgtr.scorer.get_pos_neg(x)[1] for x in xs]\n",
    "plt.plot(xs, pos_ys, color='g')\n",
    "plt.plot(xs, neg_ys, color='r')\n",
    "\n",
    "plt.show()"
   ]
  },
  {
   "cell_type": "code",
   "execution_count": 8,
   "metadata": {},
   "outputs": [
    {
     "data": {
      "image/png": "[encoded data removed]",
      "text/plain": [
       "<Figure size 432x288 with 1 Axes>"
      ]
     },
     "metadata": {
      "needs_background": "light"
     },
     "output_type": "display_data"
    }
   ],
   "source": [
    "\n",
    "\n",
    "edges_low = [(a0, a1, s, w, c) for (a0, a1, s, w, c) in initial_edges if s < 0.5]\n",
    "edges_high = [(a0, a1, s, w, c) for (a0, a1, s, w, c) in initial_edges if s >= 0.5]\n",
    "\n",
    "rnd_edges_low = [edges_low[i] for i in np.random.choice(len(edges_low), 100, replace=False)]\n",
    "rnd_edges_high = [edges_high[i] for i in np.random.choice(len(edges_high), 100, replace=False)]\n",
    "\n",
    "rnd_edges = rnd_edges_low + rnd_edges_high\n",
    "\n",
    "pos_h = [s for (a0, a1, s, w, c) in rnd_edges if c]\n",
    "neg_h = [s for (a0, a1, s, w, c) in rnd_edges if not c]\n",
    "\n",
    "plt.hist(pos_h, bins=35, density=True, alpha=0.6, color='g')\n",
    "plt.hist(neg_h, bins=35, density=True, alpha=0.6, color='r')\n",
    "plt.show()"
   ]
  },
  {
   "cell_type": "code",
   "execution_count": null,
   "metadata": {},
   "outputs": [],
   "source": []
  },
  {
   "cell_type": "code",
   "execution_count": 9,
   "metadata": {},
   "outputs": [],
   "source": [
    "wgtr = load_pickle(f\"/ekaterina/work/src/lca/lca/tmp/wgtr_{exp_name}.pickle\")"
   ]
  },
  {
   "cell_type": "code",
   "execution_count": 10,
   "metadata": {},
   "outputs": [],
   "source": [
    "def remove_outliers(scores, sign=1, std_mult=1.5):\n",
    "    # scores = np.array([s for (_, _, s) in pairs])\n",
    "    if sign < 0:\n",
    "        filter = scores - np.mean(scores) > std_mult * np.std(scores)\n",
    "    else:\n",
    "        filter = np.mean(scores) - scores > std_mult * np.std(scores)\n",
    "    # filter = np.abs(scores - np.mean(scores)) < std_mult * np.std(scores)\n",
    "    return np.array(scores)[np.logical_not(filter)], np.array(scores)[filter]\n",
    "\n",
    "pos_scores_filtered, pos_outliers = remove_outliers(pos_scores,  1)\n",
    "neg_scores_filtered, neg_outliers = remove_outliers(neg_scores, -1)"
   ]
  },
  {
   "cell_type": "code",
   "execution_count": 11,
   "metadata": {},
   "outputs": [
    {
     "data": {
      "text/plain": [
       "Text(0.5, 1.0, 'Spermwhale')"
      ]
     },
     "execution_count": 11,
     "metadata": {},
     "output_type": "execute_result"
    },
    {
     "data": {
      "image/png": "[encoded data removed]",
      "text/plain": [
       "<Figure size 432x288 with 1 Axes>"
      ]
     },
     "metadata": {
      "needs_background": "light"
     },
     "output_type": "display_data"
    }
   ],
   "source": [
    "\n",
    "\n",
    "# plt.hist(pos_scores_filtered, bins=35, density=True, alpha=0.6, color='g')\n",
    "# plt.hist(neg_scores_filtered, bins=35, density=True, alpha=0.6, color='r')\n",
    "plt.hist(pos, bins=35, density=True, alpha=0.6, color='g')\n",
    "plt.hist(neg, bins=35, density=True, alpha=0.6, color='r')\n",
    "# plt.hist(probs['gt_negative_probs'], bins=35, density=True, alpha=0.6, color='r')\n",
    "# plt.hist(probs['gt_positive_probs'], bins=35, density=True, alpha=0.6, color='g')\n",
    "xs = np.linspace(0, 1, 100)\n",
    "\n",
    "# scorer = kernel_density_scores.create_from_samples(\n",
    "#             pos_scores_filtered, neg_scores_filtered\n",
    "#         )\n",
    "scorer = kernel_density_scores.create_from_samples(\n",
    "            probs['gt_positive_probs'], probs['gt_negative_probs']\n",
    "        )\n",
    "# scorer = kernel_density_scores.create_from_samples(\n",
    "#             pos, neg\n",
    "#         )\n",
    "wgtr = weighter.weighter(scorer, config[\"lca\"][\"edge_weights\"]['prob_human_correct'])\n",
    "pos_ys = [wgtr.scorer.get_pos_neg(x)[0] for x in xs]\n",
    "neg_ys = [wgtr.scorer.get_pos_neg(x)[1] for x in xs]\n",
    "\n",
    "# scorer = kernel_density_scores.create_from_samples(\n",
    "#             pos, neg)\n",
    "\n",
    "# pos_ys = [scorer.get_pos_neg(x)[0] for x in xs]\n",
    "# neg_ys = [scorer.get_pos_neg(x)[1] for x in xs]\n",
    "\n",
    "plt.plot(xs, pos_ys, color='g')\n",
    "plt.plot(xs, neg_ys, color='r')\n",
    "\n",
    "def ratio(x):\n",
    "    return x\n",
    "#     return 10*(1/(1 + np.exp(-(x-0.5)))-0.5)\n",
    "\n",
    "# wgtr = weighter.weighter(scorer, config[\"lca\"][\"edge_weights\"]['prob_human_correct'])\n",
    "wgtr.max_weight = 10\n",
    "pos_weights = [wgtr.wgt(x) for x in pos]\n",
    "neg_weights = [wgtr.wgt(x) for x in neg]\n",
    "# pos_weights = [ratio(wgtr.scorer.get_prob(x)) for x in pos]\n",
    "# neg_weights = [ratio(wgtr.scorer.get_prob(x)) for x in neg]\n",
    "# pos_weights = [scorer.raw_wgt_(x) for x in pos]\n",
    "# neg_weights = [scorer.raw_wgt_(x) for x in neg]\n",
    "\n",
    "\n",
    "plt.plot(neg, neg_weights, \"rx\", label=\"Neg weights\")\n",
    "plt.plot(pos, pos_weights, \"gx\", label=\"Pos weights\")\n",
    "\n",
    "plt.xlabel(\"Score\")\n",
    "plt.ylabel(\"Probability density function\")\n",
    "plt.title(config['species'])"
   ]
  },
  {
   "cell_type": "code",
   "execution_count": 12,
   "metadata": {},
   "outputs": [
    {
     "name": "stdout",
     "output_type": "stream",
     "text": [
      "99\n",
      "508\n"
     ]
    }
   ],
   "source": [
    "print(len(probs['gt_positive_probs']))\n",
    "print(len(probs['gt_negative_probs']))"
   ]
  },
  {
   "cell_type": "code",
   "execution_count": 13,
   "metadata": {},
   "outputs": [
    {
     "data": {
      "text/plain": [
       "Text(0.5, 1.0, 'Elephants')"
      ]
     },
     "execution_count": 13,
     "metadata": {},
     "output_type": "execute_result"
    },
    {
     "data": {
      "image/png": "[encoded data removed]",
      "text/plain": [
       "<Figure size 432x288 with 1 Axes>"
      ]
     },
     "metadata": {
      "needs_background": "light"
     },
     "output_type": "display_data"
    }
   ],
   "source": [
    "# exp_scorer = es.exp_scores.create_from_samples(\n",
    "#             pos, neg\n",
    "#         )\n",
    "# gamma_scorer = gs.gamma_scores.create_from_samples(\n",
    "#             pos, neg\n",
    "#         )\n",
    "# extexp_scorer = ees.extexp_scores.create_from_samples(\n",
    "#             pos, neg\n",
    "#         )\n",
    "logistic_scorer = logistic_scores.logistic_scores.create_from_samples(\n",
    "            pos, neg\n",
    "        )\n",
    "\n",
    "# def remove_outliers(scores, sign=1, std_mult=3):\n",
    "#     # scores = np.array([s for (_, _, s) in pairs])\n",
    "#     if sign < 0:\n",
    "#         filter = scores - np.mean(scores) < std_mult * np.std(scores)\n",
    "#     else:\n",
    "#         filter = scores - np.mean(scores) > -std_mult * np.std(scores)\n",
    "#     # filter = np.abs(scores - np.mean(scores)) < std_mult * np.std(scores)\n",
    "#     return np.array(scores)[filter], np.array(scores)[np.logical_not(filter)]\n",
    "\n",
    "# pos1, pos_outliers = remove_outliers(pos_scores, 1)\n",
    "# neg1, neg_outliers = remove_outliers(neg_scores, -1)\n",
    "\n",
    "kernel_density_scorer = kernel_density_scores.create_from_samples(\n",
    "    pos, neg\n",
    ")\n",
    "scorer = kernel_density_scorer\n",
    "scorer = logistic_scorer\n",
    "wgtr = weighter.weighter(scorer, lca_params['prob_human_correct'])\n",
    "\n",
    "plt.hist(pos, bins=35, density=True, alpha=0.6, color='g')\n",
    "plt.hist(neg, bins=35, density=True, alpha=0.6, color='r')\n",
    "xs = np.linspace(0, 1, 100)\n",
    "\n",
    "\n",
    "# Predict probabilities\n",
    "# probabilities = model.predict_proba(xs)[:, 1]\n",
    "\n",
    "# scorer = gamma_scorer\n",
    "scorer = wgtr.scorer\n",
    "pos_ys = [scorer.get_pos_neg(x)[0] for x in xs]\n",
    "neg_ys = [scorer.get_pos_neg(x)[1] for x in xs]\n",
    "\n",
    "\n",
    "plt.plot(xs, pos_ys, color='g')\n",
    "plt.plot(xs, neg_ys, color='r')\n",
    "# plt.title(title)\n",
    "wgtr.max_weight = 10\n",
    "pos_weights = [wgtr.wgt(x) for x in pos]\n",
    "neg_weights = [wgtr.wgt(x) for x in neg]\n",
    "\n",
    "\n",
    "def ratio(x):\n",
    "    return x\n",
    "#     # logger.info(f\"Probability: {ratio}\")\n",
    "#     eps = 1e-8\n",
    "#     wgt = np.log(ratio/(1-ratio + eps))\n",
    "#     # logger.info(f\"Weight: {wgt}\")\n",
    "#     return np.power(wgt, 3)\n",
    "#     # return 10*(1/(1 + np.exp(-(x-0.5)))-0.5)\n",
    "\n",
    "# pos_weights = [ratio(wgtr.scorer.get_prob(x)) for x in pos]\n",
    "# neg_weights = [ratio(wgtr.scorer.get_prob(x)) for x in neg]\n",
    "# pos_weights = [wgtr.scorer.raw_wgt_(x) for x in pos]\n",
    "# neg_weights = [wgtr.scorer.raw_wgt_(x) for x in neg]\n",
    "\n",
    "\n",
    "plt.plot(pos, pos_weights, \"gx\", label=\"Pos weights\")\n",
    "plt.plot(neg, neg_weights, \"rx\", label=\"Neg weights\")\n",
    "\n",
    "plt.xlabel(\"Score\")\n",
    "plt.ylabel(\"Probability density function\")\n",
    "plt.title(\"Elephants\")"
   ]
  },
  {
   "cell_type": "code",
   "execution_count": 14,
   "metadata": {},
   "outputs": [
    {
     "data": {
      "text/plain": [
       "Text(0.5, 1.0, 'Sperm Whales')"
      ]
     },
     "execution_count": 14,
     "metadata": {},
     "output_type": "execute_result"
    },
    {
     "data": {
      "image/png": "[encoded data removed]",
      "text/plain": [
       "<Figure size 432x288 with 1 Axes>"
      ]
     },
     "metadata": {
      "needs_background": "light"
     },
     "output_type": "display_data"
    }
   ],
   "source": [
    "# exp_scorer = es.exp_scores.create_from_samples(\n",
    "#             pos, neg\n",
    "#         )\n",
    "# gamma_scorer = gs.gamma_scores.create_from_samples(\n",
    "#             pos, neg\n",
    "#         )\n",
    "# extexp_scorer = ees.extexp_scores.create_from_samples(\n",
    "#             pos, neg\n",
    "#         )\n",
    "isotonic_scorer = isotonic_scores.isotonic_scores.create_from_samples(\n",
    "            pos, neg\n",
    "        )\n",
    "\n",
    "# def remove_outliers(scores, sign=1, std_mult=3):\n",
    "#     # scores = np.array([s for (_, _, s) in pairs])\n",
    "#     if sign < 0:\n",
    "#         filter = scores - np.mean(scores) < std_mult * np.std(scores)\n",
    "#     else:\n",
    "#         filter = scores - np.mean(scores) > -std_mult * np.std(scores)\n",
    "#     # filter = np.abs(scores - np.mean(scores)) < std_mult * np.std(scores)\n",
    "#     return np.array(scores)[filter], np.array(scores)[np.logical_not(filter)]\n",
    "\n",
    "# pos1, pos_outliers = remove_outliers(pos_scores, 1)\n",
    "# neg1, neg_outliers = remove_outliers(neg_scores, -1)\n",
    "\n",
    "kernel_density_scorer = kernel_density_scores.create_from_samples(\n",
    "    pos, neg\n",
    ")\n",
    "scorer = kernel_density_scorer\n",
    "scorer = isotonic_scorer\n",
    "wgtr = weighter.weighter(scorer, lca_params['prob_human_correct'])\n",
    "\n",
    "plt.hist(pos, bins=35, density=True, alpha=0.6, color='g')\n",
    "plt.hist(neg, bins=35, density=True, alpha=0.6, color='r')\n",
    "xs = np.linspace(0, 1, 100)\n",
    "\n",
    "\n",
    "# Predict probabilities\n",
    "# probabilities = model.predict_proba(xs)[:, 1]\n",
    "\n",
    "# scorer = gamma_scorer\n",
    "scorer = wgtr.scorer\n",
    "pos_ys = [scorer.get_pos_neg(x)[0] for x in xs]\n",
    "neg_ys = [scorer.get_pos_neg(x)[1] for x in xs]\n",
    "\n",
    "\n",
    "plt.plot(xs, pos_ys, color='g')\n",
    "plt.plot(xs, neg_ys, color='r')\n",
    "# plt.title(title)\n",
    "wgtr.max_weight = 10\n",
    "pos_weights = [wgtr.wgt(x) for x in pos]\n",
    "neg_weights = [wgtr.wgt(x) for x in neg]\n",
    "\n",
    "\n",
    "def ratio(x):\n",
    "    return x\n",
    "#     # logger.info(f\"Probability: {ratio}\")\n",
    "#     eps = 1e-8\n",
    "#     wgt = np.log(ratio/(1-ratio + eps))\n",
    "#     # logger.info(f\"Weight: {wgt}\")\n",
    "#     return np.power(wgt, 3)\n",
    "#     # return 10*(1/(1 + np.exp(-(x-0.5)))-0.5)\n",
    "\n",
    "# pos_weights = [ratio(wgtr.scorer.get_prob(x)) for x in pos]\n",
    "# neg_weights = [ratio(wgtr.scorer.get_prob(x)) for x in neg]\n",
    "# pos_weights = [wgtr.scorer.raw_wgt_(x) for x in pos]\n",
    "# neg_weights = [wgtr.scorer.raw_wgt_(x) for x in neg]\n",
    "\n",
    "\n",
    "plt.plot(pos, pos_weights, \"gx\", label=\"Pos weights\")\n",
    "plt.plot(neg, neg_weights, \"rx\", label=\"Neg weights\")\n",
    "\n",
    "plt.xlabel(\"Score\")\n",
    "plt.ylabel(\"Probability density function\")\n",
    "plt.title(\"Sperm Whales\")"
   ]
  },
  {
   "cell_type": "code",
   "execution_count": 17,
   "metadata": {},
   "outputs": [
    {
     "data": {
      "image/png": "[encoded data removed]",
      "text/plain": [
       "<Figure size 432x288 with 1 Axes>"
      ]
     },
     "metadata": {
      "needs_background": "light"
     },
     "output_type": "display_data"
    }
   ],
   "source": [
    "# Initialize Bayesian scorer with positive and negative samples\n",
    "bayesian_scorer = bs.BayesianScores.create_from_samples(pos, neg)\n",
    "\n",
    "# Use the Bayesian scorer in the weighter\n",
    "scorer = bayesian_scorer\n",
    "wgtr = weighter.weighter(scorer, lca_params['prob_human_correct'])\n",
    "\n",
    "# Plot histograms of positive and negative scores\n",
    "plt.hist(pos, bins=35, density=True, alpha=0.6, color='g', label=\"Positive Samples\")\n",
    "plt.hist(neg, bins=35, density=True, alpha=0.6, color='r', label=\"Negative Samples\")\n",
    "xs = np.linspace(0, 1, 100)\n",
    "\n",
    "# Predict probabilities for the range of scores\n",
    "scorer = wgtr.scorer\n",
    "pos_ys = [scorer.get_pos_neg(x)[0] for x in xs]  # Probability of positive match\n",
    "neg_ys = [scorer.get_pos_neg(x)[1] for x in xs]  # Probability of negative match\n",
    "\n",
    "# Plot the Bayesian probabilities\n",
    "plt.plot(xs, pos_ys, color='g', label=\"P(Positive|Score)\")\n",
    "plt.plot(xs, neg_ys, color='r', label=\"P(Negative|Score)\")\n",
    "plt.legend()\n",
    "\n",
    "# Set a max weight for visualization\n",
    "wgtr.max_weight = 10\n",
    "pos_weights = [wgtr.wgt(x) for x in pos]\n",
    "neg_weights = [wgtr.wgt(x) for x in neg]\n",
    "\n",
    "# Plot weights\n",
    "plt.plot(pos, pos_weights, \"gx\", label=\"Positive Weights\")\n",
    "plt.plot(neg, neg_weights, \"rx\", label=\"Negative Weights\")\n",
    "\n",
    "# Set plot labels and title\n",
    "plt.xlabel(\"Score\")\n",
    "plt.ylabel(\"Probability Density Function\")\n",
    "plt.title(\"Sperm Whales\")\n",
    "plt.legend()\n",
    "plt.show()"
   ]
  },
  {
   "cell_type": "code",
   "execution_count": null,
   "metadata": {},
   "outputs": [],
   "source": []
  },
  {
   "cell_type": "code",
   "execution_count": null,
   "metadata": {},
   "outputs": [],
   "source": []
  },
  {
   "cell_type": "code",
   "execution_count": 81,
   "metadata": {},
   "outputs": [
    {
     "data": {
      "text/plain": [
       "0.8292079207920792"
      ]
     },
     "execution_count": 81,
     "metadata": {},
     "output_type": "execute_result"
    }
   ],
   "source": [
    "from sklearn.gaussian_process import GaussianProcessRegressor\n",
    "from sklearn.model_selection import GridSearchCV\n",
    "\n",
    "from sklearn.datasets import load_iris\n",
    "from sklearn.gaussian_process import GaussianProcessClassifier\n",
    "from sklearn.gaussian_process.kernels import RBF, RationalQuadratic, ExpSineSquared, ConstantKernel, Matern\n",
    "\n",
    "\n",
    "X = np.concatenate([pos_scores, neg_scores]).reshape(-1, 1)\n",
    "y = np.concatenate([np.ones((len(pos_scores),)), np.zeros((len(neg_scores),))])\n",
    "\n",
    "# X = np.concatenate([pos, neg]).reshape(-1, 1)\n",
    "# y = np.concatenate([np.ones((len(pos),)), np.zeros((len(neg),))])\n",
    "\n",
    "kernel = 1.0 * RBF(1)\n",
    "# kernel = 1.0 * RationalQuadratic(length_scale=1.0, alpha=0.1, alpha_bounds=(1e-5, 1e15))\n",
    "# kernel = 1.0 * ExpSineSquared(\n",
    "#     length_scale=1.0,\n",
    "#     periodicity=3.0,\n",
    "#     length_scale_bounds=(0.1, 10.0),\n",
    "#     periodicity_bounds=(1.0, 10.0),\n",
    "# )\n",
    "# kernel = (\n",
    "#     DotProduct(sigma_0=1.0, sigma_0_bounds=(0.1, 10.0)) ** 2\n",
    "# )\n",
    "# kernel = 1.0 * RBF(1)\n",
    "# kernel = 1.0 * Matern(length_scale=1.0, length_scale_bounds=(1e-1, 10.0), nu=1.5)\n",
    "gpc = GaussianProcessClassifier(kernel=kernel,\n",
    "        random_state=0).fit(X, y)\n",
    "gpc.score(X, y)\n",
    "\n",
    "# gpc.predict_proba(X[:2,:])\n"
   ]
  },
  {
   "cell_type": "code",
   "execution_count": 82,
   "metadata": {},
   "outputs": [],
   "source": [
    "# gpc.predict_proba(X.reshape(1, -1)[:, 0:1])"
   ]
  },
  {
   "cell_type": "code",
   "execution_count": 83,
   "metadata": {},
   "outputs": [
    {
     "data": {
      "text/plain": [
       "Text(0.5, 1.0, 'Elephants')"
      ]
     },
     "execution_count": 83,
     "metadata": {},
     "output_type": "execute_result"
    },
    {
     "data": {
      "image/png": "[encoded data removed]",
      "text/plain": [
       "<Figure size 432x288 with 1 Axes>"
      ]
     },
     "metadata": {
      "needs_background": "light"
     },
     "output_type": "display_data"
    }
   ],
   "source": [
    "plt.hist(pos, bins=35, density=True, alpha=0.6, color='g')\n",
    "plt.hist(neg, bins=35, density=True, alpha=0.6, color='r')\n",
    "xs = np.linspace(0, 1, 100)\n",
    "\n",
    "pos_ys = 10*gpc.predict_proba(xs.reshape(-1, 1))[:, 1]\n",
    "neg_ys = 10*gpc.predict_proba(xs.reshape(-1, 1))[:, 0]\n",
    "\n",
    "eps = 1e-12\n",
    "pos_s = gpc.predict_proba(np.array(pos).reshape(-1, 1))[:, 1] \n",
    "neg_s = gpc.predict_proba(np.array(neg).reshape(-1, 1))[:, 1] \n",
    "pos_wgts = np.log(pos_s/(1-pos_s + eps))\n",
    "neg_wgts = np.log(neg_s/(1-neg_s + eps))\n",
    "plt.plot(pos, pos_wgts, \"gx\", label=\"Pos weights\")\n",
    "plt.plot(neg, neg_wgts, \"rx\", label=\"Neg weights\")\n",
    "\n",
    "\n",
    "plt.plot(xs, pos_ys, color='g')\n",
    "\n",
    "plt.plot(xs, pos_ys, color='g')\n",
    "plt.plot(xs, neg_ys, color='r')\n",
    "\n",
    "# plt.plot(pos, pos_weights, \"gx\", label=\"Pos weights\")\n",
    "# plt.plot(neg, neg_weights, \"rx\", label=\"Neg weights\")\n",
    "\n",
    "plt.xlabel(\"Score\")\n",
    "plt.ylabel(\"Probability density function\")\n",
    "plt.title(\"Elephants\")"
   ]
  },
  {
   "cell_type": "code",
   "execution_count": 84,
   "metadata": {},
   "outputs": [
    {
     "ename": "TypeError",
     "evalue": "predict() got an unexpected keyword argument 'return_std'",
     "output_type": "error",
     "traceback": [
      "\u001b[0;31m---------------------------------------------------------------------------\u001b[0m",
      "\u001b[0;31mTypeError\u001b[0m                                 Traceback (most recent call last)",
      "\u001b[0;32m<ipython-input-84-d8882e6e93c5>\u001b[0m in \u001b[0;36m<module>\u001b[0;34m\u001b[0m\n\u001b[0;32m----> 1\u001b[0;31m \u001b[0mgp\u001b[0m\u001b[0;34m,\u001b[0m \u001b[0mgp_err\u001b[0m \u001b[0;34m=\u001b[0m \u001b[0mgpc\u001b[0m\u001b[0;34m.\u001b[0m\u001b[0mpredict\u001b[0m\u001b[0;34m(\u001b[0m\u001b[0mxs\u001b[0m\u001b[0;34m,\u001b[0m \u001b[0mreturn_std\u001b[0m\u001b[0;34m=\u001b[0m\u001b[0;32mTrue\u001b[0m\u001b[0;34m)\u001b[0m\u001b[0;34m\u001b[0m\u001b[0;34m\u001b[0m\u001b[0m\n\u001b[0m",
      "\u001b[0;31mTypeError\u001b[0m: predict() got an unexpected keyword argument 'return_std'"
     ]
    }
   ],
   "source": [
    "gp, gp_err = gpc.predict(xs, return_std=True)"
   ]
  },
  {
   "cell_type": "code",
   "execution_count": null,
   "metadata": {},
   "outputs": [
    {
     "data": {
      "text/plain": [
       "GaussianProcessRegressor()"
      ]
     },
     "execution_count": 3,
     "metadata": {},
     "output_type": "execute_result"
    }
   ],
   "source": []
  },
  {
   "cell_type": "code",
   "execution_count": null,
   "metadata": {},
   "outputs": [],
   "source": [
    "# %load_ext autoreload\n",
    "# %autoreload 2\n",
    "# from preprocess import preprocess_data\n",
    "# from embeddings import Embeddings\n",
    "# from curate_using_LCA import curate_using_LCA, generate_wgtr_calibration_ground_truth\n",
    "# from tools import *\n",
    "# import random\n",
    "# import os\n",
    "# from cluster_validator import ClusterValidator\n",
    "\n",
    "# lca_config = config['lca']\n",
    "# data_params = config['data']\n",
    "# lca_params = generate_ga_params(lca_config)\n",
    "\n",
    "# embeddings, uuids = load_pickle(data_params['embedding_file'])\n",
    "\n",
    "# #create db files\n",
    "\n",
    "# db_path = os.path.join(lca_config['db_path'], config['exp_name'])\n",
    "# os.makedirs(db_path, exist_ok=True)\n",
    "\n",
    "# verifier_file =  os.path.join(db_path, \"verifiers_probs.json\")\n",
    "# edge_db_file =  os.path.join(db_path, \"quads.csv\")\n",
    "# clustering_file = os.path.join(db_path, \"clustering.json\")\n",
    "# autosave_file = os.path.join(db_path, \"autosave.json\")\n",
    "\n",
    "# lca_params['autosave_file'] = autosave_file\n",
    "\n",
    "\n",
    "# # preprocess data\n",
    "\n",
    "# name_keys = data_params['name_keys']\n",
    "# filter_key = '__'.join(name_keys)\n",
    "# df = preprocess_data(data_params['annotation_file'], \n",
    "#                     name_keys= name_keys,\n",
    "#                     convert_names_to_ids=True, \n",
    "#                     viewpoint_list=data_params['viewpoint_list'], \n",
    "#                     n_filter_min=data_params['n_filter_min'], \n",
    "#                     n_filter_max=data_params['n_filter_max'],\n",
    "#                     images_dir = data_params['images_dir'], \n",
    "#                     embedding_uuids = uuids\n",
    "#                 )\n",
    "\n",
    "# print_intersect_stats(df, individual_key=filter_key)\n",
    "\n",
    "\n",
    "# # create cluster validator\n",
    "# filtered_df = df[df['uuid_x'].isin(uuids)]\n",
    "# embeddings = [embeddings[uuids.index(uuid)] for uuid in filtered_df['uuid_x']]\n",
    "# gt_clustering, gt_node2cid, node2uuid = generate_gt_clusters(filtered_df, filter_key)\n",
    "# cluster_validator = ClusterValidator(gt_clustering, gt_node2cid)\n",
    "# ga_driver.set_validator_functions(cluster_validator.trace_start_human, cluster_validator.trace_iter_compare_to_gt)\n",
    "\n",
    "\n",
    "# # create embeddings verifier\n",
    "# print(len(node2uuid.keys()))\n",
    "# print(len(embeddings))\n",
    "# verifier_embeddings = Embeddings(embeddings, list(node2uuid.keys()), distance_power=lca_params['distance_power'])\n",
    "# verifier_edges = verifier_embeddings.get_edges()\n",
    "\n",
    "# # create human reviewer\n",
    "\n",
    "# prob_human_correct = lca_params['prob_human_correct']\n",
    "    \n",
    "# human_reviewer = call_get_reviews(df, filter_key, prob_human_correct)\n",
    "# num_pos_needed = lca_params['num_pos_needed']\n",
    "# num_neg_needed = lca_params['num_neg_needed']\n",
    "\n",
    "\n",
    "# pos, neg, quit = generate_wgtr_calibration_ground_truth(verifier_edges, human_reviewer, num_pos_needed, num_neg_needed)\n",
    "\n",
    "# pos_scores = [s for (_, _, s) in pos]\n",
    "# neg_scores = [s for (_, _, s) in neg]\n",
    "\n",
    "# scorer = es.exp_scores.create_from_samples(\n",
    "#             pos_scores, neg_scores\n",
    "#         )"
   ]
  },
  {
   "cell_type": "code",
   "execution_count": null,
   "metadata": {},
   "outputs": [],
   "source": []
  },
  {
   "cell_type": "code",
   "execution_count": null,
   "metadata": {},
   "outputs": [],
   "source": [
    "# pos_scores_all = []\n",
    "# neg_scores_all = []\n",
    "# edge_nodes = [(n1, n2) for (n1, n2, _) in verifier_edges]\n",
    "# i = 0\n",
    "# print(\"getting reviews\")\n",
    "# reviews, quit_lca = human_reviewer(edge_nodes)\n",
    "# print(\"got\")\n",
    "# for ((_, _, b), (_, _, s)) in zip(reviews, verifier_edges):\n",
    "#     if b:\n",
    "#         pos_scores_all.append(s)\n",
    "#     else:\n",
    "#         neg_scores_all.append(s)\n",
    "# print(\"fin\")"
   ]
  },
  {
   "cell_type": "code",
   "execution_count": null,
   "metadata": {},
   "outputs": [],
   "source": [
    "# all_scores = [s for (_, _, s) in verifier_edges]\n",
    "\n",
    "# plt.hist(all_scores, bins=35, density=True, alpha=0.6, color='g')\n",
    "\n",
    "# plt.hist(pos_scores_all, bins=35, density=True, alpha=0.6, color='g')\n",
    "# plt.hist(neg_scores_all, bins=35, density=True, alpha=0.6, color='r')"
   ]
  },
  {
   "cell_type": "code",
   "execution_count": null,
   "metadata": {},
   "outputs": [],
   "source": [
    "from sklearn.linear_model import LogisticRegression"
   ]
  },
  {
   "cell_type": "code",
   "execution_count": null,
   "metadata": {},
   "outputs": [
    {
     "data": {
      "text/plain": [
       "Text(0.5, 1.0, 'Elephants')"
      ]
     },
     "execution_count": 90,
     "metadata": {},
     "output_type": "execute_result"
    },
    {
     "data": {
      "image/png": "[encoded data removed]",
      "text/plain": [
       "<Figure size 432x288 with 1 Axes>"
      ]
     },
     "metadata": {
      "needs_background": "light"
     },
     "output_type": "display_data"
    }
   ],
   "source": [
    "def mad(arr, axis=None, keepdims=True):\n",
    "    median = np.median(arr, axis=axis, keepdims=True)\n",
    "    mad = np.median(np.abs(arr-median),axis=axis, keepdims=keepdims)\n",
    "    return mad\n",
    "\n",
    "# def remove_outliers(scores, std_mult=5):\n",
    "#     # scores = np.array([s for (_, _, s) in pairs])\n",
    "#     # filter = np.abs(scores - np.mean(scores)) < std_mult * np.std(scores)\n",
    "#     median = np.median(scores)\n",
    "#     mad = np.median(np.abs(scores-median))\n",
    "#     filter = scores - median < std_mult * mad\n",
    "#     return np.array(scores)[filter], np.array(scores)[np.logical_not(filter)]\n",
    "\n",
    "def remove_outliers(scores, sign=1, std_mult=1.5):\n",
    "    # scores = np.array([s for (_, _, s) in pairs])\n",
    "    if sign < 0:\n",
    "        filter = scores - np.mean(scores) < std_mult * np.std(scores)\n",
    "    else:\n",
    "        filter = scores - np.mean(scores) > -std_mult * np.std(scores)\n",
    "    # filter = np.abs(scores - np.mean(scores)) < std_mult * np.std(scores)\n",
    "    return np.array(scores)[filter], np.array(scores)[np.logical_not(filter)]\n",
    "\n",
    "pos, pos_outliers = remove_outliers(pos_scores, 1)\n",
    "neg, neg_outliers = remove_outliers(neg_scores, -1)\n",
    "            # outliers = np.concatenate((pos_outliers, neg_outliers))\n",
    "            # logger.info(f\"Len before filtering: {len(verifier_edges)}\")\n",
    "            # verifier_edges = [edge for edge in verifier_edges if edge not in outliers]\n",
    "            # logger.info(f\"Len after filtering: {len(verifier_edges)}\")\n",
    "pos = pos_scores\n",
    "neg = neg_scores\n",
    "\n",
    "\n",
    "exp_scorer = es.exp_scores.create_from_samples(\n",
    "            pos, neg\n",
    "        )\n",
    "gamma_scorer = gs.gamma_scores.create_from_samples(\n",
    "            pos, neg\n",
    "        )\n",
    "extexp_scorer = ees.extexp_scores.create_from_samples(\n",
    "            pos, neg\n",
    "        )\n",
    "logistic_scorer = logistic_scores.logistic_scores.create_from_samples(\n",
    "            pos, neg\n",
    "        )\n",
    "\n",
    "plt.hist(pos, bins=35, density=True, alpha=0.6, color='g')\n",
    "plt.hist(neg, bins=35, density=True, alpha=0.6, color='r')\n",
    "xs = np.linspace(0, 1, 100)\n",
    "scorer = logistic_scorer\n",
    "wgtr = weighter.weighter(scorer, lca_params['prob_human_correct'])\n",
    "\n",
    "\n",
    "# Predict probabilities\n",
    "# probabilities = model.predict_proba(xs)[:, 1]\n",
    "\n",
    "# scorer = gamma_scorer\n",
    "pos_ys = [scorer.get_pos_neg(x)[0] for x in xs]\n",
    "neg_ys = [scorer.get_pos_neg(x)[1] for x in xs]\n",
    "\n",
    "\n",
    "plt.plot(xs, pos_ys, color='g')\n",
    "plt.plot(xs, neg_ys, color='r')\n",
    "# plt.title(title)\n",
    "wgtr.max_weight = 10\n",
    "pos_weights = [wgtr.wgt(x) for x in pos]\n",
    "neg_weights = [wgtr.wgt(x) for x in neg]\n",
    "\n",
    "plt.plot(pos, pos_weights, \"gx\", label=\"Pos weights\")\n",
    "plt.plot(neg, neg_weights, \"rx\", label=\"Neg weights\")\n",
    "\n",
    "plt.xlabel(\"Score\")\n",
    "plt.ylabel(\"Probability density function\")\n",
    "plt.title(\"Elephants\")\n",
    "# plt.legend([\"Positive scores\", \"Negative scores\", \"Estimated positive\", \"Estimated negative\", \"Pos weights\", \"Neg weights\"])"
   ]
  },
  {
   "cell_type": "code",
   "execution_count": null,
   "metadata": {},
   "outputs": [
    {
     "data": {
      "text/plain": [
       "Text(0.5, 1.0, 'Elephants')"
      ]
     },
     "execution_count": 53,
     "metadata": {},
     "output_type": "execute_result"
    },
    {
     "data": {
      "image/png": "[encoded data removed]",
      "text/plain": [
       "<Figure size 432x288 with 1 Axes>"
      ]
     },
     "metadata": {
      "needs_background": "light"
     },
     "output_type": "display_data"
    }
   ],
   "source": [
    "def mad(arr, axis=None, keepdims=True):\n",
    "    median = np.median(arr, axis=axis, keepdims=True)\n",
    "    mad = np.median(np.abs(arr-median),axis=axis, keepdims=keepdims)\n",
    "    return mad\n",
    "\n",
    "# def remove_outliers(scores, std_mult=5):\n",
    "#     # scores = np.array([s for (_, _, s) in pairs])\n",
    "#     # filter = np.abs(scores - np.mean(scores)) < std_mult * np.std(scores)\n",
    "#     median = np.median(scores)\n",
    "#     mad = np.median(np.abs(scores-median))\n",
    "#     filter = scores - median < std_mult * mad\n",
    "#     return np.array(scores)[filter], np.array(scores)[np.logical_not(filter)]\n",
    "\n",
    "def remove_outliers(scores, sign=1, std_mult=1.5):\n",
    "    # scores = np.array([s for (_, _, s) in pairs])\n",
    "    if sign < 0:\n",
    "        filter = scores - np.mean(scores) < std_mult * np.std(scores)\n",
    "    else:\n",
    "        filter = scores - np.mean(scores) > -std_mult * np.std(scores)\n",
    "    # filter = np.abs(scores - np.mean(scores)) < std_mult * np.std(scores)\n",
    "    return np.array(scores)[filter], np.array(scores)[np.logical_not(filter)]\n",
    "\n",
    "pos, pos_outliers = remove_outliers(pos_scores, 1)\n",
    "neg, neg_outliers = remove_outliers(neg_scores, -1)\n",
    "            # outliers = np.concatenate((pos_outliers, neg_outliers))\n",
    "            # logger.info(f\"Len before filtering: {len(verifier_edges)}\")\n",
    "            # verifier_edges = [edge for edge in verifier_edges if edge not in outliers]\n",
    "            # logger.info(f\"Len after filtering: {len(verifier_edges)}\")\n",
    "pos = pos_scores\n",
    "neg = neg_scores\n",
    "\n",
    "\n",
    "exp_scorer = es.exp_scores.create_from_samples(\n",
    "            pos, neg\n",
    "        )\n",
    "gamma_scorer = gs.gamma_scores.create_from_samples(\n",
    "            pos, neg\n",
    "        )\n",
    "extexp_scorer = ees.extexp_scores.create_from_samples(\n",
    "            pos, neg\n",
    "        )\n",
    "\n",
    "plt.hist(pos, bins=35, density=True, alpha=0.6, color='g')\n",
    "plt.hist(neg, bins=35, density=True, alpha=0.6, color='r')\n",
    "xs = np.linspace(0, 1, 100)\n",
    "scorer = extexp_scorer\n",
    "wgtr = weighter.weighter(exp_scorer, lca_params['prob_human_correct'])\n",
    "\n",
    "X = np.concatenate((pos, neg))\n",
    "y = np.concatenate((np.ones(len(pos)), np.zeros(len(neg))))\n",
    "model = LogisticRegression(class_weight=\"balanced\")\n",
    "\n",
    "model.fit(X.reshape(-1, 1), y)\n",
    "\n",
    "# Predict probabilities\n",
    "# probabilities = model.predict_proba(xs)[:, 1]\n",
    "\n",
    "# scorer = gamma_scorer\n",
    "# pos_ys = [scorer.get_pos_neg(x)[0] for x in xs]\n",
    "# neg_ys = [scorer.get_pos_neg(x)[1] for x in xs]\n",
    "pos_ys = model.predict_proba(xs.reshape(-1, 1))[:, 1]\n",
    "neg_ys = model.predict_proba(xs.reshape(-1, 1))[:, 0]\n",
    "\n",
    "\n",
    "plt.plot(xs, pos_ys, color='g')\n",
    "plt.plot(xs, neg_ys, color='r')\n",
    "# plt.title(title)\n",
    "wgtr.max_weight = 10\n",
    "# pos_weights = [wgtr.wgt(x) for x in pos]\n",
    "# neg_weights = [wgtr.wgt(x) for x in neg]\n",
    "\n",
    "def to_weight(ratio):\n",
    "    eps = 1e-8\n",
    "    return np.log(ratio/(1-ratio + eps))\n",
    "\n",
    "pos_weights = to_weight(model.predict_proba(np.array(pos).reshape(-1, 1))[:, 1])\n",
    "neg_weights = to_weight(model.predict_proba(np.array(neg).reshape(-1, 1))[:, 1])\n",
    "\n",
    "plt.plot(pos, pos_weights*2, \"gx\", label=\"Pos weights\")\n",
    "plt.plot(neg, neg_weights*2, \"rx\", label=\"Neg weights\")\n",
    "\n",
    "plt.xlabel(\"Score\")\n",
    "plt.ylabel(\"Probability density function\")\n",
    "plt.title(\"Elephants\")\n",
    "# plt.legend([\"Positive scores\", \"Negative scores\", \"Estimated positive\", \"Estimated negative\", \"Pos weights\", \"Neg weights\"])"
   ]
  },
  {
   "cell_type": "code",
   "execution_count": null,
   "metadata": {},
   "outputs": [
    {
     "data": {
      "text/plain": [
       "Text(0.5, 1.0, 'Elephants')"
      ]
     },
     "execution_count": 108,
     "metadata": {},
     "output_type": "execute_result"
    },
    {
     "data": {
      "image/png": "[encoded data removed]",
      "text/plain": [
       "<Figure size 432x288 with 1 Axes>"
      ]
     },
     "metadata": {
      "needs_background": "light"
     },
     "output_type": "display_data"
    }
   ],
   "source": [
    "from kernel_density_scores import kernel_density_scores\n",
    "\n",
    "def mad(arr, axis=None, keepdims=True):\n",
    "    median = np.median(arr, axis=axis, keepdims=True)\n",
    "    mad = np.median(np.abs(arr-median),axis=axis, keepdims=keepdims)\n",
    "    return mad\n",
    "\n",
    "# def remove_outliers(scores, std_mult=5):\n",
    "#     # scores = np.array([s for (_, _, s) in pairs])\n",
    "#     # filter = np.abs(scores - np.mean(scores)) < std_mult * np.std(scores)\n",
    "#     median = np.median(scores)\n",
    "#     mad = np.median(np.abs(scores-median))\n",
    "#     filter = scores - median < std_mult * mad\n",
    "#     return np.array(scores)[filter], np.array(scores)[np.logical_not(filter)]\n",
    "\n",
    "def remove_outliers(scores, sign=1, std_mult=1.5):\n",
    "    # scores = np.array([s for (_, _, s) in pairs])\n",
    "    if sign < 0:\n",
    "        filter = scores - np.mean(scores) < std_mult * np.std(scores)\n",
    "    else:\n",
    "        filter = scores - np.mean(scores) > -std_mult * np.std(scores)\n",
    "    # filter = np.abs(scores - np.mean(scores)) < std_mult * np.std(scores)\n",
    "    return np.array(scores)[filter], np.array(scores)[np.logical_not(filter)]\n",
    "\n",
    "pos, pos_outliers = remove_outliers(pos_scores, 1)\n",
    "neg, neg_outliers = remove_outliers(neg_scores, -1)\n",
    "            # outliers = np.concatenate((pos_outliers, neg_outliers))\n",
    "            # logger.info(f\"Len before filtering: {len(verifier_edges)}\")\n",
    "            # verifier_edges = [edge for edge in verifier_edges if edge not in outliers]\n",
    "            # logger.info(f\"Len after filtering: {len(verifier_edges)}\")\n",
    "pos = pos_scores\n",
    "neg = neg_scores\n",
    "\n",
    "\n",
    "exp_scorer = es.exp_scores.create_from_samples(\n",
    "            pos, neg\n",
    "        )\n",
    "gamma_scorer = gs.gamma_scores.create_from_samples(\n",
    "            pos, neg\n",
    "        )\n",
    "extexp_scorer = ees.extexp_scores.create_from_samples(\n",
    "            pos, neg\n",
    "        )\n",
    "kernel_density_scorer = kernel_density_scores.create_from_samples(\n",
    "    pos, neg\n",
    ")\n",
    "\n",
    "plt.hist(pos, bins=35, density=True, alpha=0.6, color='g')\n",
    "plt.hist(neg, bins=35, density=True, alpha=0.6, color='r')\n",
    "xs = np.linspace(0, 1, 100)\n",
    "scorer = kernel_density_scorer\n",
    "wgtr = weighter.weighter(exp_scorer, lca_params['prob_human_correct'])\n",
    "\n",
    "pos_ys = [scorer.get_pos_neg(x)[0] for x in xs]\n",
    "neg_ys = [scorer.get_pos_neg(x)[1] for x in xs]\n",
    "\n",
    "\n",
    "plt.plot(xs, pos_ys, color='g')\n",
    "plt.plot(xs, neg_ys, color='r')\n",
    "# plt.title(title)\n",
    "wgtr.max_weight = 10\n",
    "pos_weights = [wgtr.wgt(x) for x in pos]\n",
    "neg_weights = [wgtr.wgt(x) for x in neg]\n",
    "\n",
    "# def to_weight(ratio):\n",
    "#     eps = 1e-8\n",
    "#     return np.log(ratio/(1-ratio + eps))\n",
    "\n",
    "# pos_weights = to_weight(model.predict_proba(np.array(pos).reshape(-1, 1))[:, 1])\n",
    "# neg_weights = to_weight(model.predict_proba(np.array(neg).reshape(-1, 1))[:, 1])\n",
    "\n",
    "plt.plot(pos, pos_weights, \"gx\", label=\"Pos weights\")\n",
    "plt.plot(neg, neg_weights, \"rx\", label=\"Neg weights\")\n",
    "\n",
    "plt.xlabel(\"Score\")\n",
    "plt.ylabel(\"Probability density function\")\n",
    "plt.title(\"Elephants\")\n",
    "# plt.legend([\"Positive scores\", \"Negative scores\", \"Estimated positive\", \"Estimated negative\", \"Pos weights\", \"Neg weights\"])"
   ]
  },
  {
   "cell_type": "code",
   "execution_count": null,
   "metadata": {},
   "outputs": [
    {
     "data": {
      "text/plain": [
       "88"
      ]
     },
     "execution_count": 13,
     "metadata": {},
     "output_type": "execute_result"
    }
   ],
   "source": [
    "len(pos)"
   ]
  },
  {
   "cell_type": "code",
   "execution_count": null,
   "metadata": {},
   "outputs": [
    {
     "data": {
      "text/plain": [
       "62"
      ]
     },
     "execution_count": 14,
     "metadata": {},
     "output_type": "execute_result"
    }
   ],
   "source": [
    "len(neg)"
   ]
  },
  {
   "cell_type": "code",
   "execution_count": null,
   "metadata": {},
   "outputs": [
    {
     "data": {
      "text/plain": [
       "Truncated exponential distribution(loc=0.0, scale=0.3552706914563333, is_positive=False)"
      ]
     },
     "execution_count": 14,
     "metadata": {},
     "output_type": "execute_result"
    }
   ],
   "source": [
    "scorer.truncexp_neg"
   ]
  },
  {
   "cell_type": "code",
   "execution_count": null,
   "metadata": {},
   "outputs": [
    {
     "data": {
      "text/plain": [
       "0.28706690669059753"
      ]
     },
     "execution_count": 45,
     "metadata": {},
     "output_type": "execute_result"
    }
   ],
   "source": [
    "np.median(neg_scores)"
   ]
  }
 ],
 "metadata": {
  "kernelspec": {
   "display_name": "Python 3",
   "language": "python",
   "name": "python3"
  },
  "language_info": {
   "codemirror_mode": {
    "name": "ipython",
    "version": 3
   },
   "file_extension": ".py",
   "mimetype": "text/x-python",
   "name": "python",
   "nbconvert_exporter": "python",
   "pygments_lexer": "ipython3",
   "version": "3.7.12"
  }
 },
 "nbformat": 4,
 "nbformat_minor": 2
}
