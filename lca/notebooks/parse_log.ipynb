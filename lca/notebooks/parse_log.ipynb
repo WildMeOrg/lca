{
 "cells": [
  {
   "cell_type": "code",
   "execution_count": 1,
   "id": "6369da0a-5793-405e-8f62-617eaefe5ab9",
   "metadata": {},
   "outputs": [
    {
     "name": "stdout",
     "output_type": "stream",
     "text": [
      "/ekaterina/work/src/lca/lca\n"
     ]
    }
   ],
   "source": [
    "!pwd"
   ]
  },
  {
   "cell_type": "code",
   "execution_count": null,
   "id": "490a6084-986b-46fc-8bfb-2babe2b94974",
   "metadata": {},
   "outputs": [],
   "source": [
    "'''\n",
    "Assign the log file name.\n",
    "'''\n",
    "\n",
    "log_fn = '/ekaterina/work/src/lca/lca/tmp/logs/spermwhale_encounters_kde_full_20241106_143635.log'\n",
    "\n",
    "\n",
    "annotation_list = [\n",
    "    65,\n",
    "    67,\n",
    "    517,\n",
    "    586,\n",
    "    62,\n",
    "    886,\n",
    "    887,\n",
    "    888,\n",
    "    889,\n",
    "    60,\n",
    "    1214,\n",
    "    1215\n",
    "]"
   ]
  },
  {
   "cell_type": "code",
   "execution_count": 4,
   "id": "8aa02e9e-d57d-42f2-bab3-497de46f0d55",
   "metadata": {},
   "outputs": [
    {
     "name": "stdout",
     "output_type": "stream",
     "text": [
      "102421\n"
     ]
    }
   ],
   "source": [
    "'''\n",
    "Extract the log file lines.\n",
    "'''\n",
    "log_lines = []\n",
    "fp = open(log_fn)\n",
    "for line in fp:\n",
    "    log_lines.append(line)\n",
    "print(len(log_lines))"
   ]
  },
  {
   "cell_type": "code",
   "execution_count": 24,
   "id": "f828a35c-5842-4f47-81d3-43dbb25d5857",
   "metadata": {},
   "outputs": [
    {
     "data": {
      "text/plain": [
       "[{'a0': 922, 'a1': 926, 's': 0.933974027633667, 'w': '86'},\n",
       " {'a0': 765, 'a1': 1024, 's': 0.6218031048774719, 'w': '-13'},\n",
       " {'a0': 1434, 'a1': 1438, 's': 0.8682447671890259, 'w': '57'},\n",
       " {'a0': 470, 'a1': 1143, 's': 0.6521972417831421, 'w': '-5'},\n",
       " {'a0': 821, 'a1': 1036, 's': 0.4816882014274597, 'w': '-69'}]"
      ]
     },
     "execution_count": 24,
     "metadata": {},
     "output_type": "execute_result"
    }
   ],
   "source": [
    "'''\n",
    "Get the initial edges that come from MIEWID\n",
    "'''\n",
    "\n",
    "import re\n",
    "\n",
    "edges = []\n",
    "edge_pattern = re.compile(r\"a0:\\s*(\\d+),\\s*a1:\\s*(\\d+),\\s*s:([-\\d.]+),\\s*w:([-\\d.]+)\")\n",
    "\n",
    "\n",
    "initial_edges = []\n",
    "\n",
    "\n",
    "for line in log_lines:\n",
    "\n",
    "    match = edge_pattern.search(line)\n",
    "\n",
    "    if match:\n",
    "        a0 = int(match.group(1))\n",
    "        a1 = int(match.group(2))\n",
    "        score = float(match.group(3))\n",
    "        weight = match.group(4)\n",
    "        initial_edges.append({'a0': a0, 'a1': a1, 's': score, 'w': weight})\n",
    "\n",
    "initial_edges[:5]\n",
    "\n",
    "\n",
    "\n",
    "\n"
   ]
  },
  {
   "cell_type": "code",
   "execution_count": 23,
   "id": "d5069d24",
   "metadata": {},
   "outputs": [
    {
     "data": {
      "text/plain": [
       "[{'a0': 613, 'a1': 1402, 'w': -60},\n",
       " {'a0': 613, 'a1': 1425, 'w': -15},\n",
       " {'a0': 1092, 'a1': 1151, 'w': -56},\n",
       " {'a0': 1092, 'a1': 1310, 'w': -11},\n",
       " {'a0': 918, 'a1': 1093, 'w': -36}]"
      ]
     },
     "execution_count": 23,
     "metadata": {},
     "output_type": "execute_result"
    }
   ],
   "source": [
    "\n",
    "'''\n",
    "Get the inserted edges \n",
    "'''\n",
    "\n",
    "import re\n",
    "\n",
    "inserted_edges = []\n",
    "edge_pattern = re.compile(r\"Inserting edge\\s*\\(\\s*(\\d+),\\s*(\\d+),\\s*([-]?\\d+)\\s*\\)\")\n",
    "\n",
    "for line in log_lines:\n",
    "    match = edge_pattern.search(line)\n",
    "    if match:\n",
    "        a0 = int(match.group(1))\n",
    "        a1 = int(match.group(2))\n",
    "        w = int(match.group(3))  \n",
    "        inserted_edges.append({'a0': a0, 'a1': a1, 'w': w})\n",
    "\n",
    "inserted_edges[:5]\n",
    "\n",
    "\n",
    "\n"
   ]
  },
  {
   "cell_type": "code",
   "execution_count": 25,
   "id": "10f9a10e",
   "metadata": {},
   "outputs": [],
   "source": [
    "''' \n",
    "Filter all initial and inserted edges that are between annotations in the set\n",
    "'''\n",
    "\n",
    "\n",
    "\n",
    "initial_edges_annotations = list(\n",
    "    filter(lambda edge: edge['a0'] in annotation_list and edge['a1'] in annotation_list, initial_edges)\n",
    ")\n",
    "\n",
    "inserted_edges_annotations = list(\n",
    "    filter(lambda edge: edge['a0'] in annotation_list and edge['a1'] in annotation_list, inserted_edges)\n",
    ")\n"
   ]
  },
  {
   "cell_type": "code",
   "execution_count": 26,
   "id": "5c406d55",
   "metadata": {},
   "outputs": [
    {
     "name": "stdout",
     "output_type": "stream",
     "text": [
      "Initial Edges:\n",
      "{'a0': 517, 'a1': 586, 's': 0.7988724112510681, 'w': '32'}\n",
      "{'a0': 887, 'a1': 888, 's': 0.7924513816833496, 'w': '30'}\n",
      "{'a0': 887, 'a1': 889, 's': 0.8352407217025757, 'w': '44'}\n",
      "{'a0': 62, 'a1': 889, 's': 0.7766063213348389, 'w': '26'}\n",
      "{'a0': 887, 'a1': 1214, 's': 0.7882402539253235, 'w': '29'}\n",
      "{'a0': 886, 'a1': 889, 's': 0.9163191318511963, 'w': '78'}\n",
      "{'a0': 62, 'a1': 888, 's': 0.7801406383514404, 'w': '27'}\n",
      "{'a0': 65, 'a1': 586, 's': 0.729215681552887, 'w': '14'}\n",
      "{'a0': 887, 'a1': 1215, 's': 0.7315402626991272, 'w': '14'}\n",
      "{'a0': 886, 'a1': 1214, 's': 0.76073157787323, 'w': '21'}\n",
      "{'a0': 886, 'a1': 888, 's': 0.8377417325973511, 'w': '45'}\n",
      "{'a0': 60, 'a1': 62, 's': 0.8524747490882874, 'w': '51'}\n",
      "{'a0': 888, 'a1': 889, 's': 0.9076498746871948, 'w': '74'}\n",
      "{'a0': 67, 'a1': 887, 's': 0.7784255743026733, 'w': '26'}\n",
      "{'a0': 65, 'a1': 67, 's': 0.7898552417755127, 'w': '29'}\n",
      "{'a0': 65, 'a1': 1215, 's': 0.7285828590393066, 'w': '13'}\n",
      "{'a0': 67, 'a1': 1214, 's': 0.7605221271514893, 'w': '21'}\n",
      "{'a0': 67, 'a1': 1215, 's': 0.7562255859375, 'w': '20'}\n",
      "{'a0': 67, 'a1': 586, 's': 0.7334815263748169, 'w': '15'}\n",
      "{'a0': 886, 'a1': 887, 's': 0.862140417098999, 'w': '54'}\n",
      "{'a0': 62, 'a1': 65, 's': 0.7533745169639587, 'w': '19'}\n",
      "{'a0': 1214, 'a1': 1215, 's': 0.7882799506187439, 'w': '29'}\n",
      "{'a0': 65, 'a1': 886, 's': 0.7544093728065491, 'w': '20'}\n",
      "{'a0': 517, 'a1': 886, 's': 0.7559642195701599, 'w': '20'}\n",
      "{'a0': 65, 'a1': 887, 's': 0.7471310496330261, 'w': '18'}\n",
      "{'a0': 517, 'a1': 887, 's': 0.8049367070198059, 'w': '34'}\n",
      "{'a0': 60, 'a1': 889, 's': 0.7724220752716064, 'w': '24'}\n",
      "{'a0': 586, 'a1': 887, 's': 0.7858365178108215, 'w': '28'}\n",
      "{'a0': 60, 'a1': 888, 's': 0.7503976821899414, 'w': '19'}\n",
      "{'a0': 586, 'a1': 886, 's': 0.7673481702804565, 'w': '23'}\n",
      "{'a0': 60, 'a1': 67, 's': 0.7367025017738342, 'w': '15'}\n",
      "\n",
      "Total score: 912\n",
      "\n",
      "Inserted Edges:\n",
      "{'a0': 60, 'a1': 886, 'w': 13}\n",
      "Score: 925\n",
      "{'a0': 586, 'a1': 888, 'w': 3}\n",
      "Score: 928\n",
      "{'a0': 517, 'a1': 889, 'w': 8}\n",
      "Score: 936\n",
      "{'a0': 67, 'a1': 886, 'w': 8}\n",
      "Score: 944\n",
      "{'a0': 62, 'a1': 586, 'w': -5}\n",
      "Score: 939\n",
      "{'a0': 62, 'a1': 1215, 'w': -14}\n",
      "Score: 925\n",
      "{'a0': 60, 'a1': 1214, 'w': 9}\n",
      "Score: 934\n",
      "{'a0': 65, 'a1': 1214, 'w': 13}\n",
      "Score: 947\n",
      "{'a0': 65, 'a1': 888, 'w': -7}\n",
      "Score: 940\n",
      "{'a0': 60, 'a1': 1215, 'w': -10}\n",
      "Score: 930\n",
      "{'a0': 889, 'a1': 1215, 'w': -3}\n",
      "Score: 927\n",
      "{'a0': 888, 'a1': 1215, 'w': -11}\n",
      "Score: 916\n",
      "{'a0': 62, 'a1': 517, 'w': -11}\n",
      "Score: 905\n",
      "{'a0': 888, 'a1': 1214, 'w': 13}\n",
      "Score: 918\n",
      "{'a0': 60, 'a1': 586, 'w': -3}\n",
      "Score: 915\n",
      "{'a0': 517, 'a1': 1214, 'w': 12}\n",
      "Score: 927\n",
      "{'a0': 65, 'a1': 889, 'w': 6}\n",
      "Score: 933\n"
     ]
    }
   ],
   "source": [
    "'''  \n",
    "Print the cluster score for the set of annotations after each added edge\n",
    "'''\n",
    "\n",
    "\n",
    "print(\"Initial Edges:\")\n",
    "for edge in initial_edges_annotations:\n",
    "    print(edge)\n",
    "\n",
    "total_score = sum(int(edge['w']) for edge in initial_edges_annotations)\n",
    "print(\"\\nTotal score:\", total_score)\n",
    "\n",
    "s = total_score\n",
    "print(\"\\nInserted Edges:\")\n",
    "for edge in inserted_edges_annotations:\n",
    "    s += int(edge['w'])\n",
    "    print(edge)\n",
    "    print(\"Score:\", s)\n",
    "    "
   ]
  },
  {
   "cell_type": "code",
   "execution_count": null,
   "id": "bd3de7b3",
   "metadata": {},
   "outputs": [],
   "source": []
  },
  {
   "cell_type": "code",
   "execution_count": null,
   "id": "085ce3da",
   "metadata": {},
   "outputs": [],
   "source": []
  }
 ],
 "metadata": {
  "kernelspec": {
   "display_name": "Python 3",
   "language": "python",
   "name": "python3"
  },
  "language_info": {
   "codemirror_mode": {
    "name": "ipython",
    "version": 3
   },
   "file_extension": ".py",
   "mimetype": "text/x-python",
   "name": "python",
   "nbconvert_exporter": "python",
   "pygments_lexer": "ipython3",
   "version": "3.7.12"
  }
 },
 "nbformat": 4,
 "nbformat_minor": 5
}
