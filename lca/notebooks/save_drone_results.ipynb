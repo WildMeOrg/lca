{
 "cells": [
  {
   "cell_type": "code",
   "execution_count": 29,
   "id": "6369da0a-5793-405e-8f62-617eaefe5ab9",
   "metadata": {},
   "outputs": [
    {
     "name": "stdout",
     "output_type": "stream",
     "text": [
      "/ekaterina/work/src/lca/lca/notebooks\n"
     ]
    }
   ],
   "source": [
    "!pwd"
   ]
  },
  {
   "cell_type": "code",
   "execution_count": 30,
   "id": "490a6084-986b-46fc-8bfb-2babe2b94974",
   "metadata": {},
   "outputs": [],
   "source": [
    "'''\n",
    "Assign the log file name.\n",
    "'''\n",
    "\n",
    "clustering_file = '/ekaterina/work/src/lca/lca/tmp/zebra_drone/ca_filtered_merged_tracking_ids_dji_0143_0144_no_unwanted_viewpoints_pre_miewid_right/clustering.json'\n",
    "node2uuid_file = '/ekaterina/work/src/lca/lca/tmp/zebra_drone/ca_filtered_merged_tracking_ids_dji_0143_0144_no_unwanted_viewpoints_pre_miewid_right/node2uuid_file.json'\n",
    "anno_file = '/ekaterina/work/src/lca/lca/data/drone/ca_filtered_merged_tracking_ids_dji_0143_0144_no_unwanted_viewpoints_pre_miewid.csv.json'"
   ]
  },
  {
   "cell_type": "code",
   "execution_count": 31,
   "id": "76a37154-a936-41be-8cbb-be57f170381e",
   "metadata": {},
   "outputs": [
    {
     "name": "stdout",
     "output_type": "stream",
     "text": [
      "viewpoint\n",
      "right    3140\n",
      "dtype: int64\n"
     ]
    }
   ],
   "source": [
    "import pandas as pd\n",
    "import json\n",
    "\n",
    "def load_json(file_path):\n",
    "    with open(file_path) as f:\n",
    "        data = json.load(f)\n",
    "    return data\n",
    "\n",
    "data = load_json(anno_file)\n",
    "\n",
    "dfc = pd.DataFrame(data['categories'])\n",
    "dfa = pd.DataFrame(data['annotations'])\n",
    "dfi = pd.DataFrame(data['images'])\n",
    "\n",
    "df = dfa.merge(dfi, left_on='image_uuid', right_on='uuid')\n",
    "# df = dfa.merge(dfi, left_on='image_uuid', right_on='uuid')\n",
    "# df = df.merge(dfc, left_on='id', right_on='id')\n",
    "\n",
    "# df = df[df['annotations_census'] == True]\n",
    "df = df[df['viewpoint'] == 'right']\n",
    "\n",
    "counts = df.groupby('viewpoint').size()\n",
    "print(counts)\n"
   ]
  },
  {
   "cell_type": "code",
   "execution_count": 32,
   "id": "8aa02e9e-d57d-42f2-bab3-497de46f0d55",
   "metadata": {},
   "outputs": [
    {
     "name": "stdout",
     "output_type": "stream",
     "text": [
      "{'61f8f18d-ed6a-43ca-bb5e-4e77cbca1234': 'tc065', 'dd974d59-1926-4e71-9ef3-7fd990a11b5f': 'tc450', '198a3ea8-e405-44dc-a8a8-5cff9f9872fa': 'tc450', '41c68658-c9eb-4d0a-8fe1-33daca2910ac': 'tc450', 'f845d84e-077f-4efd-b6b5-7973e35c923c': 'tc450', '79c3c343-644f-4cfa-9cc8-b6d300242213': 'tc450', '0fb03689-5e8e-4e54-a3d4-7d7e23758568': 'tc450', 'ae9b090c-56a2-42d4-9492-2342d783134c': 'tc450', 'b9693907-953a-4d95-9743-58c5be6ad8c9': 'tc450', 'cb44d6af-16c0-4b50-bd3f-68b3b0655385': 'tc450', '6d74531a-052e-43b3-ae57-e3e46285e7dd': 'tc450', '9b993423-2f68-4c00-9e9f-fd339c610a4f': 'tc450', 'b27d5127-59f5-4003-818f-39612e484a60': 'tc450', '4490dbf0-f66f-4f8e-ac6b-52f8d5cde969': 'tc450', 'cd43bdfb-b83f-4115-b053-c82aec975757': 'tc450', 'd9bf3076-ec1d-4427-8e26-473437101fc7': 'tc450', '434954e8-5a91-468d-9e5c-21d3393741ef': 'tc450', '4eba88f6-4344-4223-9ffd-3ce22862a1e3': 'tc450', '5cd7ea40-5da0-42e3-ac28-9d22220bf4a4': 'tc450', '3f5740dd-fd6d-4909-a2d5-b78959cb50ea': 'tc450', 'e46753ad-2021-470b-8c95-814d88f38a57': 'tc450', '1152ee4b-acec-4aa6-969e-e167f8ce4da1': 'tc450', 'a07df287-db57-4a20-bece-97758d68f7be': 'tc450', '072d16c6-4cd2-4da4-bd8a-187d3156ac23': 'tc450', '1ab6adc9-42ae-4c6b-bf20-42a7513de5f8': 'tc450', 'bca2fd60-ed58-4128-b412-3962e753ce9c': 'tc461', '2412a956-61ff-4cc2-bd6d-665be858618a': 'tc461', '66ef89a3-a794-4b1e-83e2-38d9e5e762b7': 'tc461', '6d5e4a72-d8f0-4951-8ca5-49cf0f4eb194': 'tc461', '64b295ce-7c37-4194-94b0-cba45173d3f6': 'tc461', '32d98184-88fe-418d-a5aa-112705398380': 'tc461', '55a3c217-cb3a-424e-ab3d-3a6823effdab': 'tc461', 'df4ad2aa-27ea-46e7-ac6a-3b0b91bf6f5c': 'tc461', '0f3a8471-359d-407f-916c-6eb1107b8028': 'tc461', 'cd325cec-8b66-4de0-a5dc-383d5a8ae0cf': 'tc461', 'da79f664-fd87-4213-9f2a-b050cbf7e2b7': 'tc461', '7b3a5d0d-76b0-4660-bab7-9c6a9789e547': 'tc461', 'f2f8fb63-33d6-4003-b6ca-a307a32b73fb': 'tc466', '4df2d155-f1be-4bfd-8585-4f3a7cb4cdd5': 'tc466', 'b5660608-5ed6-456b-a200-c5e7b3b783cd': 'tc472', '8ceac27d-c9f4-4ce6-8dcc-8d2f7542ba40': 'tc472', 'c69e9875-4411-4d64-a34b-44837e35f3fb': 'tc472', 'a2ac1dce-15d3-4a91-944f-d5d70467f4dc': 'tc472', '4c8f367b-d7a8-4c64-be9a-19c5ed7775d5': 'tc472', 'a4e3cf86-7fd7-494e-be2d-cb2a1950c2aa': 'tc472', 'c6c79f7a-bb91-4bd6-add5-505ff54b6e5d': 'tc472', 'cd2be99c-4792-4c84-b5a0-e6945a6f8147': 'tc472', 'dcab5e2a-41ff-4629-a911-ff715ddf0cc0': 'tc472', '50946ba0-7120-41ba-b097-52b3bee048d3': 'tc472', '341c8e05-6401-45cd-9ffd-1ea74e673408': 'tc472', 'dce8dd5a-9ce7-4447-b2d8-013285e7e90a': 'tc472', '8c9a932d-b0fe-4f90-bd9a-37963659ed15': 'tc472', 'feb5f9f1-33ad-4fb7-a20d-0530d959483c': 'tc472', '4d3401ad-7389-47dc-be0b-d6cb5124ff78': 'tc472', '647773b5-2f45-4668-83d6-2865195a7c3f': 'tc472', '736a3203-fbad-4134-a48a-cf004b19a5c5': 'tc472', 'dc586b3c-fa34-4d55-810c-5b529fee0e1e': 'tc472', '52c7ad06-4eb4-43c1-ab17-343cebd5caf0': 'tc472', '7800c5fc-8ac4-4c48-93b8-d412d85ec196': 'tc472', 'c8954d4a-5574-4746-8112-2e1fc5d0ed30': 'tc472', 'ea351a7c-a7d5-4fc7-b0fa-e69531019cd3': 'tc472', '630538c9-aaba-44a3-be2e-053a10008fdc': 'tc472', '7c0f173c-0fcd-4ea0-b746-da788ab0552d': 'tc472', 'ca990f73-0b72-4136-a6ea-5981fbfd7753': 'tc472', 'a2bc64f7-cb34-4b12-bc61-f1cc311db3a7': 'tc472', '036c6ea6-3a4a-4af9-83db-cd02e1c297d9': 'tc472', '6f7e722c-4fcd-4a44-a560-99c3d9973199': 'tc472', 'd5655bda-4f2f-4025-bc71-ea60f1ee47f9': 'tc472', '953ba72f-d0b1-449a-990f-939e0fe5c0eb': 'tc472', '5425b4de-e2ee-4898-9a05-166838b74199': 'tc472', '16d8709d-66d0-40ac-86f4-9e99010eca8d': 'tc472', '1bb369ce-cc43-46a7-9690-e4acfef6f979': 'tc472', '8506d1f0-b75b-4b86-a61f-7cd1689aa3ae': 'tc472', '14912216-d36a-4a16-a60b-70a0b68e3fa5': 'tc472', '522725b1-b8ac-4f28-b6ab-299dc5c86ee9': 'tc472', '3a29d744-8d0e-445a-b57d-3f83b8219a29': 'tc473', 'e53883bb-db78-4727-b921-c1d291ab2035': 'tc473', '43c4019b-9b71-4e44-ab19-d8f1f6afbb47': 'tc473', '872589e6-e9ad-4b6d-869f-15404fac1a5f': 'tc473', '7f413117-2c23-430f-937a-c270191ba2d1': 'tc473', '2dc27b79-edce-43af-8c6a-492c2999f384': 'tc473', 'c5e41d0d-c428-4792-ba2f-06b4e69bd58c': 'tc481', 'e9b7e907-7950-4ea1-a246-39e166f22442': 'tc481', '746db700-5a5d-4465-89bb-b18d9bd2cf70': 'tc481', '5388ba3b-dc28-4058-b67e-c21783d53b3b': 'tc481', '4e84b5b2-f98f-4ac3-aa29-7edd2182e094': 'tc481', '7d19aa57-636d-460e-83e4-f3f7e36ebc65': 'tc481', '5463ec3b-50d8-4f58-8e62-1b7d4627c951': 'tc481', 'b42bc7da-49c1-4570-be69-11bf59f8b95c': 'tc481', 'e691ca0d-5927-439f-afd7-61338f5f20f8': 'tc481', 'cd10f15b-22d1-41da-9637-52c7cca02076': 'tc481', '456daa20-66dd-4a72-9e52-ca2fc0a1a33f': 'tc481', 'a241fa50-5451-49b5-b4b2-0f0267836ba5': 'tc481', '58cd5c10-81d7-48c1-85c8-d1ce151d430a': 'tc481', 'ad19540a-245b-4189-bc79-b675b574259d': 'tc481', 'ef721f0b-0d5a-4d25-a041-8d7e03f5828c': 'tc481', 'affb9d4b-ed3e-4aa3-9c4e-eb289bd23f27': 'tc481', 'f2c075de-34b0-4cc8-989d-a5d6be77a768': 'tc481', 'e6411e80-d913-49c1-b134-7ad85a474768': 'tc481', '97d09f54-b443-4aa1-960c-0747d2405d68': 'tc481', '8b383ffa-231d-45ac-ad25-8298d4f82bcc': 'tc481', '3da254f7-d2c9-48e7-97dd-f4cc4945f0c6': 'tc481', '738b6f88-cb44-4335-a981-7165158e22e8': 'tc481', 'd132d90d-18b4-4e13-9900-a4671b7e13f5': 'tc481', 'a95f833b-1389-41cf-a02d-421e87fa23b1': 'tc481', '8376e01c-66e8-4a10-b3c7-17f41556a99c': 'tc481', '1b3d05bc-dbf8-4d95-9a56-2ec2820acf21': 'tc481', '70b799c3-1506-49d9-ad4d-2ddb3f164bc4': 'tc481', '11a5b53b-4c5e-4ef9-8616-0151592345b8': 'tc481', '91e1fee4-4e16-4743-bc32-7ac15e8558a7': 'tc481', 'dd750259-d952-4ad0-8172-54a83e2eb4b8': 'tc481', '33ae5702-0f26-47dc-af8e-bcba878e056e': 'tc481', 'dd767878-3d4c-4ba0-9242-f7ecc0f7d890': 'tc481', 'fca4a595-59c3-4464-9416-f4b2c3030899': 'tc481', '8a815de9-d4fe-4c92-aef3-599179125cf0': 'tc481', '45cae471-f6ee-4c11-92d8-a599ff090994': 'tc481', '9ecc7013-1bf9-44f7-aace-f45fff7ed574': 'tc481', '1ce8f4a1-bc62-4977-9009-6a508a02b6c3': 'tc482', '0d56d785-9ab9-4933-b110-e4b1b43f818b': 'tc482', 'fa2581f6-c8a8-48d0-ad66-3ecdcf90dc42': 'tc482', '650a40f3-b54a-4364-a667-976ee15e6a3a': 'tc482', '365ae75b-e63f-4868-a2ff-39896937a8e3': 'tc482', 'c6d10241-53b4-4e35-98cc-b988dc0e278a': 'tc482', '7ad8d75b-4b93-4801-ac04-3777031aa1c8': 'tc482', 'df6b0806-2288-4b4c-a965-41fa2ba1286b': 'tc492', '173c65d8-b980-47b2-9693-d899a54bb66c': 'tc492', 'c6a6caf1-9708-43d4-a6b9-2ac0e50274ec': 'tc492', 'd2e6b601-0347-4ec2-9203-b921dee65dfb': 'tc495', '61154613-3b3b-40cb-b12e-95873e424ad0': 'tc495', 'd0ab3d2d-a635-4ab8-8a0b-e343e3212b1f': 'tc495', '0735ef9e-13ed-4cdd-b466-7ed3df10545f': 'tc495', '309531c4-9acf-4488-ad7e-1f6dea4b7ee4': 'tc495', 'e7932aa6-40d3-48e3-960e-fd09d56efbfc': 'tc495', '0c79d378-fa72-4ba5-bbdb-8ffacd1b4601': 'tc495', '30ffb79c-ab42-40f6-975e-54e44e0968da': 'tc495', 'e01b0b9c-316c-4eb0-9335-fba3c388d796': 'tc495', 'f0b26f13-5c7b-4c18-b38b-6e107154b274': 'tc495', '856696ae-2d97-4e11-84b4-8d5c9eca4457': 'tc495', '6838f85c-49b3-469f-9668-38478677a997': 'tc495', '4b11aeb9-95e9-46ed-8188-e2470925eb7b': 'tc495', 'f7fe3680-73ce-48a1-8cb0-25919c6ad1e0': 'tc495', '14cc3981-e3ed-4fa6-aeb4-4f8b3fafb483': 'tc495', 'd711da14-08b2-490b-b15d-f98a470c57f0': 'tc495', 'f75674db-cd30-44cb-b3c5-9038ba2b11bc': 'tc495', 'a0625fa2-9f38-471b-8a18-c11e35fa8c39': 'tc495', 'eee5ffad-ca26-4704-8154-1272e0bbe11d': 'tc495', '8dedd776-97e6-4702-9945-fa4551471428': 'tc495', 'eaa921ef-8f3e-4d5b-8d6a-29be018869db': 'tc495', 'bc453056-4ad7-4247-ba4a-782b9caffb12': 'tc495', '58987cd6-5cdc-4f9d-8446-ee584eff2a18': 'tc495', '55c37ffd-9671-4f55-b262-d46b2590e99e': 'tc495', '9e76908d-b403-4166-8ca0-c2134f38e8eb': 'tc495', 'd8ac6cc8-ae5e-4880-b413-74f4ec6a1ee3': 'tc495', '23d37ad6-8b7e-43e1-85cc-a73353db59d3': 'tc495', '1f82535e-bd5c-4167-8806-8c9f01b1e7e0': 'tc495', '5c2b78e0-6502-41f6-a6bc-8456064cc76b': 'tc495', 'bd07dcee-b07e-44e0-9b8c-09c9a3f65be5': 'tc495', 'f3b5d208-2cfa-4111-94f3-7f5b9d2c8ddd': 'tc495', '82a99852-bec4-4756-99b1-6f8efedebf30': 'tc495', 'f9284e1d-4f29-425f-b3e6-0075f9556809': 'tc497', '8c8bc5e5-2003-4a34-ad78-c0cfaec95908': 'tc497', '7c8d121a-e357-4803-b162-ee9455154f93': 'tc497', '33474a32-34bc-4a73-8349-5a8653b094d8': 'tc498', 'c195ce50-d72e-46cf-bc84-e18402fe670d': 'tc498', 'be474d60-9416-4b13-b9e1-cb4d1c084869': 'tc498', '31148d60-931a-4c71-a758-033f57624ff3': 'tc499', 'b6da9f09-9015-4e96-b508-0e9d4a207ed5': 'tc499', '5b35a8bd-2f03-4f80-a9bf-eb9ac27d8ade': 'tc499', 'e746b315-e4e0-4977-8668-0e894c307062': 'tc504', '6009ddc5-217c-4f27-9d3a-0d3eeafb622e': 'tc504', 'dcc2c28f-ba6d-4dfd-a4a6-cc927a081886': 'tc504', 'a5821b8e-4248-4cfc-9848-eb6f31cd56cb': 'tc504', '0db6f17e-0ea2-45e0-96ee-b39c670a5dc9': 'tc504', '9337c674-7d79-4fc3-b06b-ef0148d539d7': 'tc504', 'e6aab6e9-bc8c-4861-80fd-13c5223dc4b9': 'tc504', '5858b331-2107-4199-9863-52a06f90e35c': 'tc504', '0a811381-0c9d-41a4-a5e9-45dc90d461cd': 'tc504', '1a5d8a69-6751-4cbb-9228-d12f6bf6e3fe': 'tc504', '0d46d5a5-6888-4328-8a62-508f18dbda3d': 'tc504', '62d034cc-a86e-4db4-88ed-df6c6159c64d': 'tc504', 'faed358c-7fee-4a7b-adaa-84cf70ab49aa': 'tc504', '53e8a426-4503-4655-8cc5-27c96e733402': 'tc504', 'e21d02bd-b895-41ec-aa4c-0773e903d149': 'tc504', 'f788fa79-4227-4dab-aa2d-13d4d131f555': 'tc504', '93782396-dbb0-4c0b-81cf-b4456f5c3280': 'tc504', 'cecbeb64-8da1-446a-9f34-1b824c885ab1': 'tc504', '2a461310-ddad-4380-b809-8d2e28ca72b0': 'tc504', 'e1f67a77-0cad-4d5f-9b87-3a6d4dfcd86e': 'tc504', '1f9661b0-efc0-4ecc-9462-6114f1d39480': 'tc504', '31d6b56d-ec41-4b03-8385-793a14ee9820': 'tc504', '15c0ef62-bcfa-4d19-b2d7-c33e2f9e07b0': 'tc504', '6370ae77-d81e-4e79-bb6c-7180a8bd568a': 'tc504', 'b176567a-05cd-4971-a0da-636dcd494c79': 'tc504', '0c3df10d-1c1d-4051-b2e0-405e8f5dd61f': 'tc504', '471c3dbe-82e5-4f90-a8ec-901ffe802106': 'tc504', 'a2688ce1-d72a-477f-8bd4-34c654948375': 'tc504', 'ff12a1c6-38ee-4466-b132-f9e63306e412': 'tc504', 'ccea1f1e-58be-4545-ad82-03d7395bce2d': 'tc504', '702586a9-c30f-4df8-94c7-976fa05ac4f7': 'tc504', '55603d3f-6e21-4b3c-961b-68406fe5336f': 'tc504', 'f4b8ac14-96dc-48c8-b5ff-e3e567d7c121': 'tc504', 'd9e6831d-5b27-46cb-b663-e2575f1125cd': 'tc504', '2f5fe5f8-90dc-4d8e-92e4-488ed1b88984': 'tc504', 'd94f2483-8f80-42f8-8ab8-bd132b553543': 'tc504', 'e4e8da5c-03f8-4c97-a9a4-52e26ae8b25a': 'tc504', '6f28c438-7d5a-42d1-bc7d-c2ac6fbcc833': 'tc504', '5a68a62f-7270-486a-998c-ee8507a5a2b6': 'tc504', 'bf964b9b-f9e3-466a-9522-50ca95e571fd': 'tc504', 'e4f494bf-c862-457b-8026-cd31c208bbf5': 'tc504', '08dfc7bc-6a23-4955-ba6f-0ba33f947531': 'tc504', 'dcf62829-f224-43fe-8875-3f7d24ce6878': 'tc504', '6d2b9e92-e274-42dd-a077-5e15e1b12cde': 'tc504', '51b9c41e-081c-43c2-aa0f-7638cf2259e3': 'tc504', 'e0e1ae3a-f667-4b12-935a-64a02b099272': 'tc504', 'cc4a1160-92a6-4326-ad98-2f7b0f51b0d1': 'tc504', '4b9da253-6054-4bc4-86a1-b7febfc9f57e': 'tc504', '3c3d2384-bfb3-4ff0-8afe-cbab3b9aa295': 'tc504', 'ae59d1c4-acb6-45fb-8eaa-8a8a06c07df7': 'tc504', '5feb692c-b9d3-4ccd-98ec-6407d7411aeb': 'tc504', '9e455433-b7f6-475c-9f52-f2a7448ca0b9': 'tc504', '8ab28ba6-3f9b-47e9-b16a-cac0316cb999': 'tc504', 'f2d0f7d2-e546-4589-ac77-d66dbb79aa49': 'tc504', 'eb8d355c-3456-4114-bedf-a49d986766e7': 'tc504', 'ab67f896-5f23-4548-8d27-327890ebb0c3': 'tc504', 'e9b47e8c-c196-404d-82ac-6930fb92018e': 'tc504', '69d06071-ab9c-4bc2-97b4-e862765e1963': 'tc504', 'eaf0b2f4-4707-466a-9637-83a65212a434': 'tc504', '085787b0-6ab7-455a-a6a1-fe53a8a6cc5a': 'tc504', '273d2f58-afb1-485c-af5b-36ead1bcd6ce': 'tc504', '632f134c-865e-48bf-af1d-49c4daa31033': 'tc504', '991c6f81-8c03-49e9-9390-77d5cea7e011': 'tc504', '3576addf-aeaf-4dc6-af5c-3a3b204f8fb5': 'tc504', 'e820d249-0b1c-497e-beee-9666fa1a751c': 'tc504', '901d8fc5-0aa3-4ff3-b6c4-118b796cc99f': 'tc504', '6f4c4553-b41c-4f38-b70e-dcca00099c9c': 'tc504', 'e059ad23-f053-4b04-be21-0c01eaae74e2': 'tc504', 'b35d96e0-c477-4346-9fd4-2337458ddc8e': 'tc504', 'ebb4021f-608a-4d06-8851-e5817064533f': 'tc504', 'e489d060-679d-4b6e-b513-686f45c3192a': 'tc504', 'e6aa4ca1-ab1a-415a-b030-c652b24537fc': 'tc504', '9f9c1c27-5b77-425a-b551-ef86ac00547c': 'tc504', '1278afa1-0134-401f-a5f5-0da60a1feea1': 'tc504', 'a7abd370-dcf2-4a3d-8c66-464c242d77e4': 'tc504', '92100a08-0240-4ca9-b7a4-b7d264668055': 'tc504', '4f1bbde8-1429-4805-a873-7bd3ac3f0fc5': 'tc504', '6d1e07d3-685f-405a-aa47-ee926255711b': 'tc504', 'c7fb0ee0-389b-4ebd-abf8-08862fbc6e21': 'tc505', 'eb10ab2a-27ee-4b3f-bc48-dcd09f9c58b8': 'tc505'}\n"
     ]
    }
   ],
   "source": [
    "clusters = load_json(clustering_file)\n",
    "node2uuid = load_json(node2uuid_file)\n",
    "\n",
    "\n",
    "uuid_to_cluster = {}\n",
    "\n",
    "\n",
    "for cluster_id, nodes in clusters.items():\n",
    "    for node in nodes:\n",
    "        uuid = node2uuid.get(str(node))  # Get UUID from node2uuid\n",
    "        if uuid:\n",
    "            uuid_to_cluster[uuid] = cluster_id  # Map UUID to cluster ID\n",
    "        \n",
    "\n",
    "print(uuid_to_cluster)\n",
    "# print(node2uuid)"
   ]
  },
  {
   "cell_type": "code",
   "execution_count": 33,
   "id": "39064643",
   "metadata": {},
   "outputs": [],
   "source": [
    "import random\n",
    "cluster_ids = list(clusters.keys())\n",
    "\n",
    "# Function to get cluster ID or assign a random cluster if missing\n",
    "def get_cluster_or_random(uuid):\n",
    "    return uuid_to_cluster.get(uuid, random.choice(cluster_ids))\n",
    "\n",
    "# Apply the function to map or assign random values for missing mappings\n",
    "df['uuid'] = df['uuid_x']\n",
    "# df['LCA_clustering_id'] = df['uuid'].apply(get_cluster_or_random)\n",
    "\n",
    "# df['LCA_clustering_id'] = df['uuid'].map(uuid_to_cluster)\n",
    "df['LCA_clustering_id'] = df['uuid'].map(uuid_to_cluster).where(df['uuid'].isin(uuid_to_cluster), None)\n"
   ]
  },
  {
   "cell_type": "code",
   "execution_count": 34,
   "id": "f828a35c-5842-4f47-81d3-43dbb25d5857",
   "metadata": {},
   "outputs": [
    {
     "name": "stdout",
     "output_type": "stream",
     "text": [
      "Data is saved to: /ekaterina/work/src/lca/lca/data/drone/ca_filtered_merged_tracking_ids_dji_0143_0144_no_unwanted_viewpoints_pre_miewid_right_LCA.json\n"
     ]
    }
   ],
   "source": [
    "import json\n",
    "output_path = '/ekaterina/work/src/lca/lca/data/drone/ca_filtered_merged_tracking_ids_dji_0143_0144_no_unwanted_viewpoints_pre_miewid_right_LCA.json'\n",
    "\n",
    "df_annotations_fields = ['uuid', 'image_uuid', 'bbox', 'viewpoint', 'tracking_id', 'individual_id', 'confidence','detection_class','species', 'CA_score', 'category_id', 'LCA_clustering_id']\n",
    "df_annotations = df[df_annotations_fields]\n",
    "# df_annotations = df_annotations.rename(columns={'uuid_x': 'uuid'})\n",
    "\n",
    "\n",
    "df_images_fields = ['image_uuid', 'file_name']\n",
    "df_images_fields= df.columns.intersection(df_images_fields)\n",
    "df_images = df[df_images_fields].drop_duplicates(keep='first').reset_index(drop=True)\n",
    "df_images = df_images.rename(columns={'image_uuid': 'uuid'})\n",
    "\n",
    "\n",
    "df_categories_fields = ['category_id', 'species']\n",
    "df_categories = df[df_categories_fields].drop_duplicates(keep='first').reset_index(drop=True)\n",
    "df_categories = df_categories.rename(columns={'category_id': 'id'})\n",
    "\n",
    "result_dict = {\n",
    "                'categories': df_categories.to_dict(orient='records'),\n",
    "                'images': df_images.to_dict(orient='records'),\n",
    "                'annotations': df_annotations.to_dict(orient='records')\n",
    "                }\n",
    "\n",
    "with open(output_path, 'w') as f:\n",
    "    json.dump(result_dict, f, indent=4)\n",
    "    print('Data is saved to:', output_path)\n"
   ]
  },
  {
   "cell_type": "code",
   "execution_count": null,
   "id": "9002d65c-dcab-4bad-91a3-6db8c2017773",
   "metadata": {},
   "outputs": [],
   "source": []
  },
  {
   "cell_type": "code",
   "execution_count": null,
   "id": "0a44bc25",
   "metadata": {},
   "outputs": [],
   "source": []
  },
  {
   "cell_type": "code",
   "execution_count": null,
   "id": "4add04a4-73cc-43eb-930a-bab71b294254",
   "metadata": {},
   "outputs": [],
   "source": []
  }
 ],
 "metadata": {
  "kernelspec": {
   "display_name": "lca",
   "language": "python",
   "name": "python3"
  },
  "language_info": {
   "codemirror_mode": {
    "name": "ipython",
    "version": 3
   },
   "file_extension": ".py",
   "mimetype": "text/x-python",
   "name": "python",
   "nbconvert_exporter": "python",
   "pygments_lexer": "ipython3",
   "version": "3.7.12"
  }
 },
 "nbformat": 4,
 "nbformat_minor": 5
}
