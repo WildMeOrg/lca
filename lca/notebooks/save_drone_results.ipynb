{
 "cells": [
  {
   "cell_type": "code",
   "execution_count": 1,
   "id": "6369da0a-5793-405e-8f62-617eaefe5ab9",
   "metadata": {},
   "outputs": [
    {
     "name": "stdout",
     "output_type": "stream",
     "text": [
      "/ekaterina/work/src/lca/lca\n"
     ]
    }
   ],
   "source": [
    "!pwd"
   ]
  },
  {
   "cell_type": "code",
   "execution_count": 10,
   "id": "490a6084-986b-46fc-8bfb-2babe2b94974",
   "metadata": {},
   "outputs": [],
   "source": [
    "'''\n",
    "Assign the log file name.\n",
    "'''\n",
    "\n",
    "clustering_file = '/ekaterina/work/src/lca/lca/tmp/zebra_drone/zebra_drone_0088_right_filtered_chuck/clustering.json'\n",
    "node2uuid_file = '/ekaterina/work/src/lca/lca/tmp/zebra_drone/zebra_drone_0088_right_filtered_chuck/node2uuid_file.json'\n",
    "anno_file = '/ekaterina/work/src/lca/lca/data/drone/chuck_ca_filtered_final_combined_output_dji_0088_right_filtered.json'"
   ]
  },
  {
   "cell_type": "code",
   "execution_count": 11,
   "id": "76a37154-a936-41be-8cbb-be57f170381e",
   "metadata": {},
   "outputs": [
    {
     "name": "stdout",
     "output_type": "stream",
     "text": [
      "viewpoint\n",
      "right    155\n",
      "dtype: int64\n"
     ]
    }
   ],
   "source": [
    "import pandas as pd\n",
    "import json\n",
    "\n",
    "def load_json(file_path):\n",
    "    with open(file_path) as f:\n",
    "        data = json.load(f)\n",
    "    return data\n",
    "\n",
    "data = load_json(anno_file)\n",
    "\n",
    "dfc = pd.DataFrame(data['categories'])\n",
    "dfa = pd.DataFrame(data['annotations'])\n",
    "dfi = pd.DataFrame(data['images'])\n",
    "\n",
    "df = dfa.merge(dfi, left_on='image_uuid', right_on='uuid')\n",
    "# df = dfa.merge(dfi, left_on='image_uuid', right_on='uuid')\n",
    "# df = df.merge(dfc, left_on='id', right_on='id')\n",
    "\n",
    "# df = df[df['annotations_census'] == True]\n",
    "df = df[df['viewpoint'] == 'right']\n",
    "\n",
    "counts = df.groupby('viewpoint').size()\n",
    "print(counts)\n"
   ]
  },
  {
   "cell_type": "code",
   "execution_count": 12,
   "id": "8aa02e9e-d57d-42f2-bab3-497de46f0d55",
   "metadata": {},
   "outputs": [
    {
     "name": "stdout",
     "output_type": "stream",
     "text": [
      "{'067de032-c66f-4aca-a84d-7579f8955ed6': 'tc133', '5c70a527-a694-4dd5-b660-43a3bd7ac8ef': 'tc165', '0c1cbead-dbc3-430a-819d-db2f97386ff8': 'tc165', 'e05dac82-0326-4705-91e5-21ed761a6e14': 'tc165', 'f27a8c65-d8ae-495c-b87a-edeb57ee7e7a': 'tc165', '62caa700-2864-4eaa-8b43-acc890c6abef': 'tc165', '992cdb9c-dec5-4203-8b10-3454443d58f7': 'tc165', '6d332b40-8499-4e9a-8e6f-94d9391c0ada': 'tc165', '94e7babe-eaca-46e0-a48f-45e8c6552cd7': 'tc165', 'f4b9ac39-3f08-4fd1-802e-658903afcba6': 'tc165', '99d9213c-da0f-4ebd-bb8b-5ec41bef1039': 'tc165', '85ab13cc-01cf-4209-9450-bdc9574c546d': 'tc165', '7a444acd-be31-4e6c-8b2a-7d9656bf07a0': 'tc165', '7a3bca4b-71b2-4006-8971-dccff3593cd9': 'tc272', 'eac562f0-8d5b-48d3-b735-06421806bcaf': 'tc272', '3e677d7e-eb52-4662-9702-406c6793fcc5': 'tc272', '234a5965-be15-424c-8bbc-25b71599dc12': 'tc272', 'fb7cbe3a-aaa2-4275-8f77-14783b7977a0': 'tc272', '15e93d5b-41a1-44c0-9dea-f41a9155da1b': 'tc272', '78d42940-4192-4733-addd-c8a657f694b8': 'tc272', '80a973cf-7511-4b25-9f0b-6281919b92cc': 'tc272', '168cbecb-d07e-4edf-98b1-19c097be01e8': 'tc272', '3818ef2d-822f-4799-886e-d3a338a60cb3': 'tc272', 'd9d74a19-3824-456c-828c-63076282ef2c': 'tc272', '811b7a0f-40bb-4c67-96e9-b4bec7879f99': 'tc272', 'd160203d-9d26-45ec-a999-eda6d477ed5f': 'tc272', '1903e05e-fab2-428b-ab81-157e4665ad26': 'tc272', '55e869fc-c994-48a3-a54b-7b227453295a': 'tc272', '5511eff9-f2ff-4c10-ad86-118d6beb63eb': 'tc272', '823a7488-4b97-44bb-bbfe-856a0db38e4b': 'tc272', '9c371cf3-1016-4154-b466-1df0723b32d0': 'tc272', '5af4300c-da5a-43e2-b299-097c7448f965': 'tc272', 'e690b11f-a354-418f-a422-dc6085a3e892': 'tc272', '37e42696-d451-47bb-a3e6-871f913b4aec': 'tc272', '61d06e56-c311-4abc-a5d6-c4badbe3d749': 'tc272', 'c2ac88e1-a02e-4889-b784-1d5a3be4f1fd': 'tc272', 'f28b672e-2448-4dee-a7b4-56fc11bdcdcc': 'tc272', '3ab99d79-c95b-466d-9e11-13b67f7dfc92': 'tc272', 'a9281b64-53f5-42ae-a7a2-7ffcff59be84': 'tc272', 'c3f2c84b-587c-4079-af0b-85e6a41350ed': 'tc284', '1543af06-a841-4b42-8b45-e814c1f71b8b': 'tc284', '7ed4c91b-a890-4cbf-a79b-9b8e6adf4e1d': 'tc284', '3f29bdfe-d961-417b-b75d-2d1dddec327c': 'tc284', '9c1defea-8081-49b9-a427-997fd3e192a6': 'tc284', '51f4156d-f4ac-4702-acbd-b5adaa30f5da': 'tc284', 'd09788ec-4a45-454b-9c67-997ee6225496': 'tc284', '82d8d784-d93d-49ea-a2d5-89097527c4ba': 'tc284', 'd36fb780-fde1-4dd6-8915-d32aaea31e76': 'tc293', 'd9508ec9-74ab-4cec-bbd4-912e31e91a52': 'tc293', 'eebb0bd2-773e-483a-87c0-b3ba2101c3a6': 'tc293', 'a99a3227-13b1-44c6-b1e6-a68d7ac98023': 'tc296', '2c9dcefc-3249-49bc-b442-73bae63bf208': 'tc296', '56c2e691-210f-4b50-9a3a-d1fe0860219f': 'tc296', '9cc1475f-b8ff-41a8-bacc-ddb313fe46c8': 'tc296', '531ce754-96cd-467d-9794-7c80fe06e193': 'tc296', 'aa3c3ad6-0697-4415-a55b-154e1d616182': 'tc296', '0c226f9a-2063-4b17-8726-a9837f236803': 'tc296', 'd4a5f696-d72c-4b58-8af5-e2a4bb710704': 'tc296', '3ab28436-0617-4ccc-bdcd-904efa507da9': 'tc296', 'b86b25d7-520e-479b-b6df-c59565822719': 'tc296', '16a61316-f9ef-4e90-979b-b6f664311706': 'tc296', '24169f6d-9f6a-4912-9860-6f334b4c0d20': 'tc296', '83171815-a370-47c6-a1e6-7afa08d58f01': 'tc296', '262c3767-9b99-443f-93e0-0cf8001a41b0': 'tc296', 'd288f0f6-c579-4027-9646-2ba535f01c4a': 'tc296', '9654851d-19eb-42b7-bc52-15ebdfc758f4': 'tc296', 'e92f77eb-0b28-42b8-aca9-53f865bdc7b5': 'tc296', '3e55c87d-63b6-4da0-a015-2f53fbd3f73a': 'tc296', '6c6dad85-19a4-4200-afd9-a617a4517a24': 'tc296', 'b353a542-cd1c-47f3-91d3-4aed1abe01d7': 'tc296', 'f9d29726-1772-4106-8afa-9341b1f50bdd': 'tc296', 'c17e1299-2457-4ed1-90e2-a29c98aab582': 'tc296', '2973ba6a-7f28-4ae8-a912-cc5b2b171347': 'tc296', 'fc87dbdf-fd37-40ce-b1b4-b722ffc37efd': 'tc296', 'f50e9627-be26-4e34-ba20-37f510ddd1da': 'tc296', '25781a52-dd1b-4025-8241-7d21c4a70e0e': 'tc296', 'e9966b34-dd2e-4ed3-9f9e-392be41b8954': 'tc296', '273cd44d-8157-46dc-a2bb-05e6f109cc81': 'tc296', 'b06f99f5-8b66-4740-825e-1ea205553942': 'tc296', 'ea60db81-542d-4239-a729-5bc562da56ee': 'tc296', 'ba60d0a6-9653-4067-993e-dd5ac4f2e181': 'tc296', '1a9c1ee7-dd59-4a0f-bca2-862233c686a5': 'tc296', '3fa9bbb3-003b-4c7b-b4f6-b77afe6700bc': 'tc296', '9049c481-470b-456f-be9e-fdf55e876fd8': 'tc296', 'f8f5c852-3908-4516-9a0f-f01f48f74a98': 'tc297', '45e3b83b-3158-4998-81b4-6850e834f0b1': 'tc297', '1b2bb181-85b1-447f-bde2-7f5b512aa6ea': 'tc297', '427493ce-639c-4483-b06c-9a634684294a': 'tc297', 'bc375f2f-07c1-4e39-8b7d-8eedc48799a6': 'tc297', '78efe1de-41bb-48a5-a311-7247d7f1280d': 'tc297', '93031f0f-bdde-435e-b0fe-894425652b6e': 'tc297', '92a716a8-9201-45c9-b15f-7bc0c01bb82a': 'tc297', 'fc508985-ab91-4315-8d52-8f2a9f5ebb5b': 'tc297', '16da96b7-8b28-403d-8aff-c0992e482040': 'tc297', '2d1f4f93-8ae8-4d9e-9a6d-bc99b40d6c47': 'tc297', 'de958651-d3a7-4108-9720-940624c41f1f': 'tc297', '93422ee7-af02-4b33-970e-f8c89b84bb12': 'tc297', '13f8b3f6-ad83-4d73-aba9-e1d51c7a84b8': 'tc297', '672d5602-8991-4010-8c7b-5e785b038ab6': 'tc299', '5b766a99-1f6b-489b-834f-370c75ebd911': 'tc299', '14faf17c-b6e5-4187-9457-aa87d0286a1c': 'tc299', '2d6dc022-c1b3-4cbe-b157-096d71dbf188': 'tc299', 'e45031a9-3107-4844-94be-beed16ecac92': 'tc299', '6fa4a499-578d-4a4a-8715-f43d949abeec': 'tc299', '1c3d3631-6874-401e-8bc9-6c670ec1718a': 'tc299', 'e2aef61c-5c18-49bb-a964-144c7df1316c': 'tc299', '09c2d9ed-e411-4ce5-a7c8-8fed55ba1aad': 'tc299', '2e425b33-23e6-4f04-87d6-bc65eff6f04f': 'tc299', '44907c53-dc94-4564-9fa9-f84fcd6c4109': 'tc299', 'd2646640-1862-4918-a932-823318ba3f34': 'tc299', '43763320-e89c-4da1-a833-38ac1b57242c': 'tc299', '275db149-22c4-4832-87c9-74857e72d76b': 'tc299', 'dba9053f-e44a-45c8-84be-aadae551785c': 'tc299', '5f72fb0f-1855-4095-a140-cde9ee184104': 'tc299', 'b1447469-e06e-44c5-8caa-498ab0d42fa5': 'tc299', '28ce5fcd-ad8f-4aea-98d0-b61d9f7b8ee2': 'tc299', '49f8935c-ab21-48b4-a03c-03a5a82541de': 'tc299', '8d2b63fe-4b0b-42ad-a822-4200bd24c3f6': 'tc299', '191dc8bf-380e-4b74-a831-6f1d6783286d': 'tc299', 'f9afb886-ece1-41ad-8f4c-e664763a1ccd': 'tc299', '75d5a4e3-8a68-4a12-855e-7bb44c8cc9b0': 'tc299', '515b9c2b-abde-44e8-91e6-507824d303a1': 'tc299', 'a4418968-46d4-4778-b94f-ff758114bff7': 'tc299', '3558d4e9-b11a-48f6-9ffe-78c006dbde49': 'tc299', 'b27c299f-3990-4831-9f4e-f29841f1693e': 'tc299', 'f4f35c78-74b7-4e5e-8cb2-f484d912d978': 'tc299', '811b15c9-8830-476a-80d3-843b0ebbb4e3': 'tc299', '93f8011b-1ce9-4be4-9717-986f10d057de': 'tc299', 'c9d6c3d9-f270-4240-973a-eb7b0b71bf3b': 'tc299', 'b67b6e5a-9e93-499a-8b6e-40ece721551a': 'tc301', '4d48f55b-6079-4b1a-98c9-736c860f19f1': 'tc301', 'fc020cf6-a5a7-401d-b687-63f3810410b9': 'tc301', '8448de26-7722-4d0e-8591-e409241dea72': 'tc305', '9d5c4b79-449a-40a7-bd43-c36646ad85ec': 'tc305', '128f16f5-f164-464c-9068-bd6c4b66fad8': 'tc305', '9dcbd2dd-8cc9-4689-a8f5-a6457500574e': 'tc305', 'eb74d322-8a4c-4ba5-9690-b9877c602386': 'tc305', '04342bd0-91c4-4c9c-8dc2-80ce26c2ce52': 'tc306', '2e5f007e-3d2f-4dd0-8668-7ac14c5f0122': 'tc306', '6702a2f7-1f18-4525-9d17-89fde17cb027': 'tc306', '210f8304-3b3f-4f77-8fc8-9e45f1610288': 'tc306', 'bbdb7e7e-5ba6-486c-a87d-a9f1da9aacaf': 'tc306', '462ec33c-1972-4994-90fe-180eac05ef9f': 'tc306', 'b7006280-5ded-4c33-a3d5-132858c0794b': 'tc306', '660bc6ba-1196-49fa-a47c-e3114ae0cc8b': 'tc306', '631b5c4a-d231-4fc0-8b55-eddf5b658a23': 'tc306', 'e0ffd735-ee08-4566-88fa-8a67b8b1e703': 'tc306', '010de16c-d719-4d55-8975-f9dc0477367a': 'tc307', '69b992c2-4825-414e-9f11-29b08d872bfc': 'tc307', 'f90b9cfe-10d6-4148-9113-832834efa630': 'tc307', '8e5f8d20-b01e-4c94-8149-4ad957a8dbdc': 'tc307', '6866bf48-814c-47a2-a60f-1ff69a206b0b': 'tc307', '88416433-578a-4b55-a48d-7bf9fd9f7bad': 'tc307', 'fee15d26-7845-4a9a-bad0-65286ae6f707': 'tc307', 'f7775c26-771d-4b4a-96a0-8a015a6d23ae': 'tc307'}\n"
     ]
    }
   ],
   "source": [
    "clusters = load_json(clustering_file)\n",
    "node2uuid = load_json(node2uuid_file)\n",
    "\n",
    "\n",
    "uuid_to_cluster = {}\n",
    "\n",
    "\n",
    "for cluster_id, nodes in clusters.items():\n",
    "    for node in nodes:\n",
    "        uuid = node2uuid.get(str(node))  # Get UUID from node2uuid\n",
    "        if uuid:\n",
    "            uuid_to_cluster[uuid] = cluster_id  # Map UUID to cluster ID\n",
    "\n",
    "print(uuid_to_cluster)\n",
    "# print(node2uuid)"
   ]
  },
  {
   "cell_type": "code",
   "execution_count": 13,
   "id": "39064643",
   "metadata": {},
   "outputs": [],
   "source": [
    "import random\n",
    "cluster_ids = list(clusters.keys())\n",
    "\n",
    "# Function to get cluster ID or assign a random cluster if missing\n",
    "def get_cluster_or_random(uuid):\n",
    "    return uuid_to_cluster.get(uuid, random.choice(cluster_ids))\n",
    "\n",
    "# Apply the function to map or assign random values for missing mappings\n",
    "df['uuid'] = df['uuid_x']\n",
    "# df['LCA_clustering_id'] = df['uuid'].apply(get_cluster_or_random)\n",
    "\n",
    "df['LCA_clustering_id'] = df['uuid'].map(uuid_to_cluster)"
   ]
  },
  {
   "cell_type": "code",
   "execution_count": 14,
   "id": "f828a35c-5842-4f47-81d3-43dbb25d5857",
   "metadata": {},
   "outputs": [
    {
     "name": "stdout",
     "output_type": "stream",
     "text": [
      "Data is saved to: /ekaterina/work/src/lca/lca/data/drone/chuck_ca_filtered_final_combined_output_dji_0088_right_filtered_LCA.csv.json\n"
     ]
    }
   ],
   "source": [
    "import json\n",
    "output_path = '/ekaterina/work/src/lca/lca/data/drone/chuck_ca_filtered_final_combined_output_dji_0088_right_filtered_LCA.csv.json'\n",
    "\n",
    "df_annotations_fields = ['uuid', 'image_uuid', 'bbox', 'viewpoint', 'tracking_id', 'individual_id', 'confidence','detection_class','species', 'CA_score', 'category_id', 'LCA_clustering_id']\n",
    "df_annotations = df[df_annotations_fields]\n",
    "# df_annotations = df_annotations.rename(columns={'uuid_x': 'uuid'})\n",
    "\n",
    "\n",
    "df_images_fields = ['image_uuid', 'file_name']\n",
    "df_images_fields= df.columns.intersection(df_images_fields)\n",
    "df_images = df[df_images_fields].drop_duplicates(keep='first').reset_index(drop=True)\n",
    "df_images = df_images.rename(columns={'image_uuid': 'uuid'})\n",
    "\n",
    "\n",
    "df_categories_fields = ['category_id', 'species']\n",
    "df_categories = df[df_categories_fields].drop_duplicates(keep='first').reset_index(drop=True)\n",
    "df_categories = df_categories.rename(columns={'category_id': 'id'})\n",
    "\n",
    "result_dict = {\n",
    "                'categories': df_categories.to_dict(orient='records'),\n",
    "                'images': df_images.to_dict(orient='records'),\n",
    "                'annotations': df_annotations.to_dict(orient='records')\n",
    "                }\n",
    "\n",
    "with open(output_path, 'w') as f:\n",
    "    json.dump(result_dict, f, indent=4)\n",
    "    print('Data is saved to:', output_path)\n"
   ]
  },
  {
   "cell_type": "code",
   "execution_count": null,
   "id": "9002d65c-dcab-4bad-91a3-6db8c2017773",
   "metadata": {},
   "outputs": [
    {
     "name": "stdout",
     "output_type": "stream",
     "text": [
      "13578\n"
     ]
    }
   ],
   "source": []
  },
  {
   "cell_type": "code",
   "execution_count": null,
   "id": "0a44bc25",
   "metadata": {},
   "outputs": [],
   "source": []
  },
  {
   "cell_type": "code",
   "execution_count": null,
   "id": "4add04a4-73cc-43eb-930a-bab71b294254",
   "metadata": {},
   "outputs": [
    {
     "name": "stdout",
     "output_type": "stream",
     "text": [
      "Histogram of weights\n",
      "-100, -90: 0\n",
      "-90, -80: 0\n",
      "-80, -70: 0\n",
      "-70, -60: 20\n",
      "-60, -50: 581\n",
      "-50, -40: 2899\n",
      "-40, -30: 3824\n",
      "-30, -20: 1881\n",
      "-20, -10: 1279\n",
      "-10, 0: 1489\n",
      "0, 10: 476\n",
      "10, 20: 332\n",
      "20, 30: 163\n",
      "30, 40: 123\n",
      "40, 50: 110\n",
      "50, 60: 81\n",
      "60, 70: 76\n",
      "70, 80: 55\n",
      "80, 90: 41\n",
      "90, 100: 148\n",
      "Num negative weights 11973\n",
      "Num positive weights 1605\n"
     ]
    }
   ],
   "source": []
  }
 ],
 "metadata": {
  "kernelspec": {
   "display_name": "Python 3",
   "language": "python",
   "name": "python3"
  },
  "language_info": {
   "codemirror_mode": {
    "name": "ipython",
    "version": 3
   },
   "file_extension": ".py",
   "mimetype": "text/x-python",
   "name": "python",
   "nbconvert_exporter": "python",
   "pygments_lexer": "ipython3",
   "version": "3.7.12"
  }
 },
 "nbformat": 4,
 "nbformat_minor": 5
}
