{
 "cells": [
  {
   "cell_type": "code",
   "execution_count": 1,
   "id": "6369da0a-5793-405e-8f62-617eaefe5ab9",
   "metadata": {},
   "outputs": [
    {
     "name": "stdout",
     "output_type": "stream",
     "text": [
      "/ekaterina/work/src/lca/lca/notebooks\n"
     ]
    }
   ],
   "source": [
    "!pwd"
   ]
  },
  {
   "cell_type": "code",
   "execution_count": 12,
   "id": "490a6084-986b-46fc-8bfb-2babe2b94974",
   "metadata": {},
   "outputs": [],
   "source": [
    "'''\n",
    "Assign the log file name.\n",
    "'''\n",
    "\n",
    "viewpoint = 'right'\n",
    "\n",
    "clustering_file = f'/ekaterina/work/src/lca/lca/tmp/zebra_drone/ca_filtered_merged_tracking_ids_dji_0100_0101_0102_no_unwanted_viewpoints_pre_miewid_{viewpoint}/clustering.json'\n",
    "node2uuid_file = f'/ekaterina/work/src/lca/lca/tmp/zebra_drone/ca_filtered_merged_tracking_ids_dji_0100_0101_0102_no_unwanted_viewpoints_pre_miewid_{viewpoint}/node2uuid_file.json'\n",
    "anno_file = '/ekaterina/work/src/lca/lca/data/drone/ca_filtered_merged_tracking_ids_dji_0100_0101_0102_no_unwanted_viewpoints_pre_miewid.csv.json'"
   ]
  },
  {
   "cell_type": "code",
   "execution_count": 13,
   "id": "76a37154-a936-41be-8cbb-be57f170381e",
   "metadata": {},
   "outputs": [
    {
     "name": "stdout",
     "output_type": "stream",
     "text": [
      "viewpoint\n",
      "right    674\n",
      "dtype: int64\n"
     ]
    }
   ],
   "source": [
    "import pandas as pd\n",
    "import json\n",
    "\n",
    "def load_json(file_path):\n",
    "    with open(file_path) as f:\n",
    "        data = json.load(f)\n",
    "    return data\n",
    "\n",
    "data = load_json(anno_file)\n",
    "\n",
    "dfc = pd.DataFrame(data['categories'])\n",
    "dfa = pd.DataFrame(data['annotations'])\n",
    "dfi = pd.DataFrame(data['images'])\n",
    "\n",
    "df = dfa.merge(dfi, left_on='image_uuid', right_on='uuid')\n",
    "# df = dfa.merge(dfi, left_on='image_uuid', right_on='uuid')\n",
    "# df = df.merge(dfc, left_on='id', right_on='id')\n",
    "\n",
    "# df = df[df['annotations_census'] == True]\n",
    "df = df[df['viewpoint'] == viewpoint]\n",
    "\n",
    "counts = df.groupby('viewpoint').size()\n",
    "print(counts)\n"
   ]
  },
  {
   "cell_type": "code",
   "execution_count": 14,
   "id": "8aa02e9e-d57d-42f2-bab3-497de46f0d55",
   "metadata": {},
   "outputs": [
    {
     "name": "stdout",
     "output_type": "stream",
     "text": [
      "{'af34a9d4-edc7-412d-ad60-e700f7b12bb6': 'tc004', '6fec91e4-d7c2-4415-b075-4cb4466dbdfb': 'tc006', '4a211ef0-726d-4ae6-9144-b499e7cfcb26': 'tc008', '75e78b8b-b932-4ca0-b19f-f8f81a1615f8': 'tc019', '693397dc-df1e-4abe-a829-5c256c296101': 'tc019', '36e7fe00-a1c1-4121-b7d2-0e00683383f8': 'tc019', '376a574e-ff09-45a5-8a0d-805c8f3a0b7e': 'tc019', 'c476bffa-2ff9-436e-a7b1-415639439b1b': 'tc019', '78615c0f-55b4-4859-a39f-77094b8830fe': 'tc019', '2388c46b-f7c7-4e54-9dd0-e56adc9a4899': 'tc020', 'b20b0e3a-b8d8-406f-9e85-686f9dabaa77': 'tc021', 'a93386c7-b2d8-42fc-b039-bcf2947d0a33': 'tc022'}\n"
     ]
    }
   ],
   "source": [
    "clusters = load_json(clustering_file)\n",
    "node2uuid = load_json(node2uuid_file)\n",
    "\n",
    "\n",
    "uuid_to_cluster = {}\n",
    "\n",
    "\n",
    "for cluster_id, nodes in clusters.items():\n",
    "    for node in nodes:\n",
    "        uuid = node2uuid.get(str(node))  # Get UUID from node2uuid\n",
    "        if uuid:\n",
    "            uuid_to_cluster[uuid] = cluster_id  # Map UUID to cluster ID\n",
    "        \n",
    "\n",
    "print(uuid_to_cluster)\n",
    "# print(node2uuid)"
   ]
  },
  {
   "cell_type": "code",
   "execution_count": 15,
   "id": "39064643",
   "metadata": {},
   "outputs": [],
   "source": [
    "import random\n",
    "cluster_ids = list(clusters.keys())\n",
    "\n",
    "# Function to get cluster ID or assign a random cluster if missing\n",
    "def get_cluster_or_random(uuid):\n",
    "    return uuid_to_cluster.get(uuid, random.choice(cluster_ids))\n",
    "\n",
    "# Apply the function to map or assign random values for missing mappings\n",
    "df['uuid'] = df['uuid_x']\n",
    "# df['LCA_clustering_id'] = df['uuid'].apply(get_cluster_or_random)\n",
    "\n",
    "# df['LCA_clustering_id'] = df['uuid'].map(uuid_to_cluster)\n",
    "df['LCA_clustering_id'] = df['uuid'].map(uuid_to_cluster).where(df['uuid'].isin(uuid_to_cluster), None)\n"
   ]
  },
  {
   "cell_type": "code",
   "execution_count": 17,
   "id": "f828a35c-5842-4f47-81d3-43dbb25d5857",
   "metadata": {},
   "outputs": [
    {
     "name": "stdout",
     "output_type": "stream",
     "text": [
      "Data is saved to: /ekaterina/work/src/lca/lca/data/drone/ca_filtered_merged_tracking_ids_dji_0100_0101_0102_no_unwanted_viewpoints_pre_miewid_right_LCA.json\n"
     ]
    }
   ],
   "source": [
    "import json\n",
    "output_path = f'/ekaterina/work/src/lca/lca/data/drone/ca_filtered_merged_tracking_ids_dji_0100_0101_0102_no_unwanted_viewpoints_pre_miewid_{viewpoint}_LCA.json'\n",
    "\n",
    "# df_annotations_fields = ['uuid', 'image_uuid', 'bbox', 'viewpoint', 'tracking_id', 'individual_id', 'confidence','detection_class','species', 'CA_score', 'category_id', 'LCA_clustering_id']\n",
    "df_annotations_fields = ['uuid', 'image_uuid', 'bbox', 'viewpoint', 'tracking_id', 'confidence','detection_class','species', 'CA_score', 'category_id', 'LCA_clustering_id']\n",
    "\n",
    "df_annotations = df[df_annotations_fields]\n",
    "# df_annotations = df_annotations.rename(columns={'uuid_x': 'uuid'})\n",
    "\n",
    "\n",
    "df_images_fields = ['image_uuid', 'file_name']\n",
    "df_images_fields= df.columns.intersection(df_images_fields)\n",
    "df_images = df[df_images_fields].drop_duplicates(keep='first').reset_index(drop=True)\n",
    "df_images = df_images.rename(columns={'image_uuid': 'uuid'})\n",
    "\n",
    "\n",
    "df_categories_fields = ['category_id', 'species']\n",
    "df_categories = df[df_categories_fields].drop_duplicates(keep='first').reset_index(drop=True)\n",
    "df_categories = df_categories.rename(columns={'category_id': 'id'})\n",
    "\n",
    "result_dict = {\n",
    "                'categories': df_categories.to_dict(orient='records'),\n",
    "                'images': df_images.to_dict(orient='records'),\n",
    "                'annotations': df_annotations.to_dict(orient='records')\n",
    "                }\n",
    "\n",
    "with open(output_path, 'w') as f:\n",
    "    json.dump(result_dict, f, indent=4)\n",
    "    print('Data is saved to:', output_path)\n"
   ]
  },
  {
   "cell_type": "code",
   "execution_count": null,
   "id": "9002d65c-dcab-4bad-91a3-6db8c2017773",
   "metadata": {},
   "outputs": [],
   "source": []
  },
  {
   "cell_type": "code",
   "execution_count": null,
   "id": "0a44bc25",
   "metadata": {},
   "outputs": [],
   "source": []
  },
  {
   "cell_type": "code",
   "execution_count": null,
   "id": "4add04a4-73cc-43eb-930a-bab71b294254",
   "metadata": {},
   "outputs": [],
   "source": []
  }
 ],
 "metadata": {
  "kernelspec": {
   "display_name": "lca",
   "language": "python",
   "name": "python3"
  },
  "language_info": {
   "codemirror_mode": {
    "name": "ipython",
    "version": 3
   },
   "file_extension": ".py",
   "mimetype": "text/x-python",
   "name": "python",
   "nbconvert_exporter": "python",
   "pygments_lexer": "ipython3",
   "version": "3.7.12"
  }
 },
 "nbformat": 4,
 "nbformat_minor": 5
}
