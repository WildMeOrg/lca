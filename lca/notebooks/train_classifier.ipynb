{
 "cells": [
  {
   "cell_type": "code",
   "execution_count": 16,
   "metadata": {},
   "outputs": [
    {
     "name": "stdout",
     "output_type": "stream",
     "text": [
      "The autoreload extension is already loaded. To reload it, use:\n",
      "  %reload_ext autoreload\n"
     ]
    }
   ],
   "source": [
    "import matplotlib.pyplot as plt\n",
    "import json\n",
    "from run import run as run_lca\n",
    "from run_baseline import run as run_baseline\n",
    "from tools import *\n",
    "from init_logger import init_logger\n",
    "import os\n",
    "import ga_driver\n",
    "import numpy as np\n",
    "import exp_scores as es\n",
    "import gamma_scores as gs\n",
    "import bayesian_scores as bs\n",
    "import extexp_scores as ees\n",
    "import logistic_scores\n",
    "import isotonic_scores\n",
    "from kernel_density_scores import kernel_density_scores\n",
    "\n",
    "%load_ext autoreload\n",
    "%autoreload 2"
   ]
  },
  {
   "cell_type": "code",
   "execution_count": 18,
   "metadata": {},
   "outputs": [],
   "source": [
    "import weighter\n",
    "\n",
    "config = get_config(\"configs/config_spermwhale.yaml\")\n",
    "lca_config = config['lca']\n",
    "db_path = os.path.join(lca_config['db_path'], config['exp_name'])\n",
    "\n",
    "verifier_file =  os.path.join(db_path, \"verifiers_probs.json\")\n",
    "wgtrs_calib_dict = load_json(verifier_file)\n",
    "lca_config['logging']['log_file'] = None\n",
    "lca_params = generate_ga_params(lca_config)\n",
    "probs = wgtrs_calib_dict['miewid']\n",
    "# wgtrs = ga_driver.generate_weighters(\n",
    "#             lca_params, wgtrs_calib_dict\n",
    "#         )\n",
    "exp_scorer = es.exp_scores.create_from_samples(\n",
    "            probs['gt_positive_probs'], probs['gt_negative_probs']\n",
    "        )\n",
    "gamma_scorer = gs.gamma_scores.create_from_samples(\n",
    "            probs['gt_positive_probs'], probs['gt_negative_probs']\n",
    "        )\n",
    "\n",
    "pos_scores = probs[\"gt_positive_probs\"]\n",
    "neg_scores = probs[\"gt_negative_probs\"]\n",
    "\n",
    "# wgtr = wgtrs[0]#weighter.weighter(gamma_scorer, config[\"lca\"][\"edge_weights\"]['prob_human_correct'])"
   ]
  },
  {
   "cell_type": "code",
   "execution_count": 19,
   "metadata": {},
   "outputs": [
    {
     "data": {
      "text/plain": [
       "'tmp/spermwhale_encounters_kde_full/verifiers_probs.json'"
      ]
     },
     "execution_count": 19,
     "metadata": {},
     "output_type": "execute_result"
    }
   ],
   "source": [
    "verifier_file"
   ]
  },
  {
   "cell_type": "code",
   "execution_count": null,
   "metadata": {},
   "outputs": [],
   "source": []
  },
  {
   "cell_type": "code",
   "execution_count": 21,
   "metadata": {},
   "outputs": [
    {
     "name": "stdout",
     "output_type": "stream",
     "text": [
      "14868\n"
     ]
    }
   ],
   "source": [
    "from tools import load_json, load_pickle\n",
    "\n",
    "exp_name = config['exp_name']\n",
    "\n",
    "initial_edges = load_json(f\"/ekaterina/work/src/lca/lca/tmp/initial_edges_{exp_name}.json\")\n",
    "\n",
    "print(len(initial_edges))\n",
    "\n",
    "\n",
    "pos = [s for (a0, a1, s, w, c) in initial_edges if c and w > 0]\n",
    "neg = [s for (a0, a1, s, w, c) in initial_edges if ((not c) and w < 0)] \n",
    "intersect = [s for (a0, a1, s, w, c) in initial_edges if ((not c) and w >= 0) or (c and w <= 0)] \n",
    "\n",
    "pos_weights = [w / 10 for (a0, a1, s, w, c) in initial_edges if c and w > 0]\n",
    "neg_weights = [w / 10 for (a0, a1, s, w, c) in initial_edges if (not c) and w < 0]\n",
    "intersect_weights = [w / 10 for (a0, a1, s, w, c) in initial_edges if ((not c) and w >= 0) or (c and w <= 0)]"
   ]
  },
  {
   "cell_type": "code",
   "execution_count": 22,
   "metadata": {},
   "outputs": [
    {
     "data": {
      "text/plain": [
       "(14868, 5)"
      ]
     },
     "execution_count": 22,
     "metadata": {},
     "output_type": "execute_result"
    }
   ],
   "source": [
    "np.array(initial_edges).shape"
   ]
  },
  {
   "cell_type": "code",
   "execution_count": 26,
   "metadata": {},
   "outputs": [
    {
     "data": {
      "image/png": "[encoded data removed]",
      "text/plain": [
       "<Figure size 432x288 with 1 Axes>"
      ]
     },
     "metadata": {
      "needs_background": "light"
     },
     "output_type": "display_data"
    }
   ],
   "source": [
    "plt.hist(pos, bins=35, density=True, alpha=0.6, color='g')\n",
    "plt.hist(neg, bins=35, density=True, alpha=0.6, color='r')\n",
    "plt.hist(intersect, bins=35, density=True, alpha=0.6, color='y')\n",
    "\n",
    "scorer = kernel_density_scores.create_from_samples(\n",
    "            pos, neg\n",
    "        )\n",
    "# scorer = kernel_density_scores.create_from_samples(\n",
    "#             pos, neg\n",
    "#         )\n",
    "xs = np.linspace(0, 1, 100)\n",
    "wgtr = weighter.weighter(scorer, config[\"lca\"][\"edge_weights\"]['prob_human_correct'])\n",
    "pos_ys = [wgtr.scorer.get_pos_neg(x)[0] for x in xs]\n",
    "neg_ys = [wgtr.scorer.get_pos_neg(x)[1] for x in xs]\n",
    "plt.plot(xs, pos_ys, color='g')\n",
    "plt.plot(xs, neg_ys, color='r')\n",
    "\n",
    "\n",
    "plt.show()"
   ]
  },
  {
   "cell_type": "code",
   "execution_count": 38,
   "metadata": {},
   "outputs": [],
   "source": [
    "\n",
    "X = np.concatenate((pos, neg, intersect))\n",
    "y = np.concatenate((np.zeros(len(pos)), np.ones(len(neg)), 2*np.ones(len(intersect))))"
   ]
  },
  {
   "cell_type": "code",
   "execution_count": 40,
   "metadata": {},
   "outputs": [
    {
     "name": "stdout",
     "output_type": "stream",
     "text": [
      "Nearest Neighbors 0.8534735229464574\n",
      "              precision    recall  f1-score   support\n",
      "\n",
      "         Pos       0.83      0.80      0.81       996\n",
      "         Neg       0.99      1.00      1.00      4142\n",
      "        Hard       0.75      0.76      0.76       810\n",
      "\n",
      "    accuracy                           0.93      5948\n",
      "   macro avg       0.86      0.85      0.86      5948\n",
      "weighted avg       0.93      0.93      0.93      5948\n",
      "\n",
      "Linear SVM 0.8808511965729279\n",
      "              precision    recall  f1-score   support\n",
      "\n",
      "         Pos       0.89      0.81      0.85       996\n",
      "         Neg       1.00      0.98      0.99      4142\n",
      "        Hard       0.71      0.85      0.78       810\n",
      "\n",
      "    accuracy                           0.93      5948\n",
      "   macro avg       0.87      0.88      0.87      5948\n",
      "weighted avg       0.94      0.93      0.94      5948\n",
      "\n",
      "RBF SVM 0.8839440743103681\n",
      "              precision    recall  f1-score   support\n",
      "\n",
      "         Pos       0.89      0.81      0.85       996\n",
      "         Neg       0.99      0.99      0.99      4142\n",
      "        Hard       0.76      0.85      0.80       810\n",
      "\n",
      "    accuracy                           0.94      5948\n",
      "   macro avg       0.88      0.88      0.88      5948\n",
      "weighted avg       0.95      0.94      0.94      5948\n",
      "\n",
      "Decision Tree 0.8816357393257298\n",
      "              precision    recall  f1-score   support\n",
      "\n",
      "         Pos       0.88      0.81      0.85       996\n",
      "         Neg       0.99      1.00      1.00      4142\n",
      "        Hard       0.78      0.83      0.80       810\n",
      "\n",
      "    accuracy                           0.95      5948\n",
      "   macro avg       0.88      0.88      0.88      5948\n",
      "weighted avg       0.95      0.95      0.94      5948\n",
      "\n",
      "Random Forest 0.8868499613801761\n",
      "              precision    recall  f1-score   support\n",
      "\n",
      "         Pos       0.89      0.82      0.85       996\n",
      "         Neg       0.99      1.00      1.00      4142\n",
      "        Hard       0.79      0.84      0.81       810\n",
      "\n",
      "    accuracy                           0.95      5948\n",
      "   macro avg       0.89      0.89      0.89      5948\n",
      "weighted avg       0.95      0.95      0.95      5948\n",
      "\n",
      "Neural Net 0.8809329538169249\n",
      "              precision    recall  f1-score   support\n",
      "\n",
      "         Pos       0.87      0.83      0.85       996\n",
      "         Neg       0.99      0.99      0.99      4142\n",
      "        Hard       0.76      0.82      0.79       810\n",
      "\n",
      "    accuracy                           0.94      5948\n",
      "   macro avg       0.88      0.88      0.88      5948\n",
      "weighted avg       0.94      0.94      0.94      5948\n",
      "\n",
      "AdaBoost 0.8747450053805363\n",
      "              precision    recall  f1-score   support\n",
      "\n",
      "         Pos       0.86      0.84      0.85       996\n",
      "         Neg       1.00      0.97      0.98      4142\n",
      "        Hard       0.70      0.81      0.75       810\n",
      "\n",
      "    accuracy                           0.93      5948\n",
      "   macro avg       0.85      0.87      0.86      5948\n",
      "weighted avg       0.93      0.93      0.93      5948\n",
      "\n",
      "Naive Bayes 0.8794834014719513\n",
      "              precision    recall  f1-score   support\n",
      "\n",
      "         Pos       0.90      0.80      0.85       996\n",
      "         Neg       1.00      0.97      0.98      4142\n",
      "        Hard       0.68      0.87      0.76       810\n",
      "\n",
      "    accuracy                           0.93      5948\n",
      "   macro avg       0.86      0.88      0.86      5948\n",
      "weighted avg       0.94      0.93      0.93      5948\n",
      "\n",
      "QDA 0.8794834014719513\n",
      "              precision    recall  f1-score   support\n",
      "\n",
      "         Pos       0.90      0.80      0.85       996\n",
      "         Neg       1.00      0.97      0.98      4142\n",
      "        Hard       0.68      0.87      0.76       810\n",
      "\n",
      "    accuracy                           0.93      5948\n",
      "   macro avg       0.86      0.88      0.86      5948\n",
      "weighted avg       0.94      0.93      0.93      5948\n",
      "\n"
     ]
    },
    {
     "data": {
      "text/plain": [
       "<Figure size 1944x648 with 0 Axes>"
      ]
     },
     "metadata": {},
     "output_type": "display_data"
    }
   ],
   "source": [
    "# Code source: Gaël Varoquaux\n",
    "#              Andreas Müller\n",
    "# Modified for documentation by Jaques Grobler\n",
    "# License: BSD 3 clause\n",
    "\n",
    "import matplotlib.pyplot as plt\n",
    "import numpy as np\n",
    "from matplotlib.colors import ListedColormap\n",
    "\n",
    "from sklearn.datasets import make_circles, make_classification, make_moons\n",
    "from sklearn.discriminant_analysis import QuadraticDiscriminantAnalysis\n",
    "from sklearn.ensemble import AdaBoostClassifier, RandomForestClassifier\n",
    "from sklearn.gaussian_process import GaussianProcessClassifier\n",
    "from sklearn.gaussian_process.kernels import RBF\n",
    "# from sklearn.inspection import DecisionBoundaryDisplay\n",
    "from sklearn.model_selection import train_test_split\n",
    "from sklearn.naive_bayes import GaussianNB\n",
    "from sklearn.neighbors import KNeighborsClassifier\n",
    "from sklearn.neural_network import MLPClassifier\n",
    "from sklearn.pipeline import make_pipeline\n",
    "from sklearn.preprocessing import StandardScaler\n",
    "from sklearn.svm import SVC\n",
    "from sklearn.tree import DecisionTreeClassifier\n",
    "from sklearn.utils.class_weight import compute_class_weight\n",
    "from sklearn.metrics import classification_report\n",
    "names = [\n",
    "    \"Nearest Neighbors\",\n",
    "    \"Linear SVM\",\n",
    "    \"RBF SVM\",\n",
    "    # \"Gaussian Process\",\n",
    "    \"Decision Tree\",\n",
    "    \"Random Forest\",\n",
    "    \"Neural Net\",\n",
    "    \"AdaBoost\",\n",
    "    \"Naive Bayes\",\n",
    "    \"QDA\",\n",
    "]\n",
    "\n",
    "classifiers = [\n",
    "    KNeighborsClassifier(3),\n",
    "    SVC(kernel=\"linear\", C=0.025, random_state=42),\n",
    "    SVC(gamma=2, C=1, random_state=42),\n",
    "    # GaussianProcessClassifier(1.0 * RBF(1.0), random_state=42),\n",
    "    DecisionTreeClassifier(max_depth=5, random_state=42),\n",
    "    RandomForestClassifier(\n",
    "        max_depth=5, n_estimators=10, max_features=1, random_state=42\n",
    "    ),\n",
    "    MLPClassifier(alpha=1, max_iter=1000, random_state=42),\n",
    "    AdaBoostClassifier(algorithm=\"SAMME\", random_state=42),\n",
    "    GaussianNB(),\n",
    "    QuadraticDiscriminantAnalysis(),\n",
    "]\n",
    "\n",
    "\n",
    "\n",
    "datasets = [\n",
    "    (X.reshape(-1, 1),y)\n",
    "]\n",
    "\n",
    "figure = plt.figure(figsize=(27, 9))\n",
    "i = 1\n",
    "# iterate over datasets\n",
    "for ds_cnt, ds in enumerate(datasets):\n",
    "    # preprocess dataset, split into training and test part\n",
    "    X, y = ds\n",
    "    X_train, X_test, y_train, y_test = train_test_split(\n",
    "        X, y, stratify=y, test_size=0.4, random_state=42\n",
    "    )\n",
    "\n",
    "    x_min, x_max = X.min() - 0.5, X.max() + 0.5\n",
    "    y_min, y_max = X.min() - 0.5, X.max() + 0.5\n",
    "    \n",
    "    \n",
    "    i += 1\n",
    "\n",
    "    # iterate over classifiers\n",
    "    for name, clf in zip(names, classifiers):\n",
    "\n",
    "        clf = make_pipeline(StandardScaler(), clf)\n",
    "        clf.fit(X_train, y_train)\n",
    "        # score = clf.score(X_test, y_test)\n",
    "        # Calculate class weights\n",
    "        class_weights = compute_class_weight(class_weight='balanced', classes=np.unique(y_test), y=y_test)\n",
    "        class_weight_dict = dict(zip(np.unique(y_test), class_weights))\n",
    "\n",
    "        # Generate sample weights based on class weights\n",
    "        sample_weights = np.array([class_weight_dict[label] for label in y_test])\n",
    "\n",
    "        # Now you can pass these sample weights into the scoring function or any weighted metric calculation\n",
    "        weighted_score = clf.score(X_test, y_test, sample_weight=sample_weights)\n",
    "        print(name, weighted_score)\n",
    "        target_names = ['Pos', 'Neg', 'Hard']\n",
    "        y_pred = clf.predict(X_test)\n",
    "        print(classification_report(y_test, y_pred, target_names=target_names))\n",
    "        # Plot the training points\n",
    "        i += 1\n"
   ]
  },
  {
   "cell_type": "code",
   "execution_count": null,
   "metadata": {},
   "outputs": [],
   "source": []
  }
 ],
 "metadata": {
  "kernelspec": {
   "display_name": "Python 3",
   "language": "python",
   "name": "python3"
  },
  "language_info": {
   "codemirror_mode": {
    "name": "ipython",
    "version": 3
   },
   "file_extension": ".py",
   "mimetype": "text/x-python",
   "name": "python",
   "nbconvert_exporter": "python",
   "pygments_lexer": "ipython3",
   "version": "3.7.12"
  }
 },
 "nbformat": 4,
 "nbformat_minor": 2
}
