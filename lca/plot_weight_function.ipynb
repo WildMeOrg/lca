{
 "cells": [
  {
   "cell_type": "code",
   "execution_count": 24,
   "metadata": {},
   "outputs": [],
   "source": [
    "import matplotlib.pyplot as plt\n",
    "import json\n",
    "from run import run as run_lca\n",
    "from run_baseline import run as run_baseline\n",
    "from tools import *\n",
    "from init_logger import init_logger\n",
    "import os\n",
    "import ga_driver\n",
    "import numpy as np\n",
    "import exp_scores as es\n",
    "import gamma_scores as gs"
   ]
  },
  {
   "cell_type": "code",
   "execution_count": 26,
   "metadata": {},
   "outputs": [],
   "source": [
    "config = get_config(\"configs/config_forestelephants.yaml\")\n",
    "lca_config = config['lca']\n",
    "db_path = os.path.join(lca_config['db_path'], config['exp_name'])\n",
    "\n",
    "verifier_file =  os.path.join(db_path, \"verifiers_probs.json\")\n",
    "wgtrs_calib_dict = load_json(verifier_file)\n",
    "lca_params = generate_ga_params(lca_config)\n",
    "probs = wgtrs_calib_dict['miewid']\n",
    "wgtrs = ga_driver.generate_weighters(\n",
    "            lca_params, wgtrs_calib_dict\n",
    "        )\n",
    "scorer = es.exp_scores.create_from_samples(\n",
    "            probs['gt_positive_probs'], probs['gt_negative_probs']\n",
    "        )\n",
    "scorer = gs.gamma_scores.create_from_samples(\n",
    "            probs['gt_positive_probs'], probs['gt_negative_probs']\n",
    "        )"
   ]
  },
  {
   "cell_type": "code",
   "execution_count": null,
   "metadata": {},
   "outputs": [],
   "source": []
  },
  {
   "cell_type": "code",
   "execution_count": 27,
   "metadata": {},
   "outputs": [],
   "source": [
    "pos_scores = probs[\"gt_positive_probs\"]\n",
    "neg_scores = probs[\"gt_negative_probs\"]"
   ]
  },
  {
   "cell_type": "code",
   "execution_count": 21,
   "metadata": {},
   "outputs": [
    {
     "name": "stdout",
     "output_type": "stream",
     "text": [
      "The autoreload extension is already loaded. To reload it, use:\n",
      "  %reload_ext autoreload\n",
      "Merging on image uuid\n",
      "** Loaded /ekaterina/work/data/elephants/forestelephants_query.json **\n",
      "      Found 1282 annotations\n",
      "      1282 annotations remain after filtering by given uuids\n",
      "      1282 annotations remain after filtering by viewpoint list ['right', 'left']\n",
      "      1210 annotations remain after filtering by min 2 per name__viewpoint\n",
      "      1168 annotations remain after filtering by max 10 per name__viewpoint\n",
      "1168\n",
      "1168\n",
      "Calculating distances...\n",
      "1168/1168\n",
      "Chunk result: 1.510708 seconds, Total estimate: 0.025179 minutes\n",
      "Max dist: 0.6543114185333252\n",
      "Calculated distances: 0.031156 seconds\n",
      "13763\n"
     ]
    }
   ],
   "source": [
    "%load_ext autoreload\n",
    "%autoreload 2\n",
    "from preprocess import preprocess_data\n",
    "from embeddings import Embeddings\n",
    "from curate_using_LCA import curate_using_LCA, generate_wgtr_calibration_ground_truth\n",
    "from tools import *\n",
    "import random\n",
    "import os\n",
    "from cluster_validator import ClusterValidator\n",
    "\n",
    "lca_config = config['lca']\n",
    "data_params = config['data']\n",
    "lca_params = generate_ga_params(lca_config)\n",
    "\n",
    "embeddings, uuids = load_pickle(data_params['embedding_file'])\n",
    "\n",
    "#create db files\n",
    "\n",
    "db_path = os.path.join(lca_config['db_path'], config['exp_name'])\n",
    "os.makedirs(db_path, exist_ok=True)\n",
    "\n",
    "verifier_file =  os.path.join(db_path, \"verifiers_probs.json\")\n",
    "edge_db_file =  os.path.join(db_path, \"quads.csv\")\n",
    "clustering_file = os.path.join(db_path, \"clustering.json\")\n",
    "autosave_file = os.path.join(db_path, \"autosave.json\")\n",
    "\n",
    "lca_params['autosave_file'] = autosave_file\n",
    "\n",
    "\n",
    "# preprocess data\n",
    "\n",
    "name_keys = data_params['name_keys']\n",
    "filter_key = '__'.join(name_keys)\n",
    "df = preprocess_data(data_params['annotation_file'], \n",
    "                    name_keys= name_keys,\n",
    "                    convert_names_to_ids=True, \n",
    "                    viewpoint_list=data_params['viewpoint_list'], \n",
    "                    n_filter_min=data_params['n_filter_min'], \n",
    "                    n_filter_max=data_params['n_filter_max'],\n",
    "                    images_dir = data_params['images_dir'], \n",
    "                    embedding_uuids = uuids\n",
    "                )\n",
    "\n",
    "print_intersect_stats(df, individual_key=filter_key)\n",
    "\n",
    "\n",
    "# create cluster validator\n",
    "filtered_df = df[df['uuid_x'].isin(uuids)]\n",
    "embeddings = [embeddings[uuids.index(uuid)] for uuid in filtered_df['uuid_x']]\n",
    "gt_clustering, gt_node2cid, node2uuid = generate_gt_clusters(filtered_df, filter_key)\n",
    "cluster_validator = ClusterValidator(gt_clustering, gt_node2cid)\n",
    "ga_driver.set_validator_functions(cluster_validator.trace_start_human, cluster_validator.trace_iter_compare_to_gt)\n",
    "\n",
    "\n",
    "# create embeddings verifier\n",
    "print(len(node2uuid.keys()))\n",
    "print(len(embeddings))\n",
    "verifier_embeddings = Embeddings(embeddings, list(node2uuid.keys()), distance_power=lca_params['distance_power'])\n",
    "verifier_edges = verifier_embeddings.get_edges()\n",
    "\n",
    "# create human reviewer\n",
    "\n",
    "prob_human_correct = lca_params['prob_human_correct']\n",
    "    \n",
    "human_reviewer = call_get_reviews(df, filter_key, prob_human_correct)\n",
    "num_pos_needed = lca_params['num_pos_needed']\n",
    "num_neg_needed = lca_params['num_neg_needed']\n",
    "\n",
    "\n",
    "pos, neg, quit = generate_wgtr_calibration_ground_truth(verifier_edges, human_reviewer, num_pos_needed, num_neg_needed)\n",
    "\n",
    "pos_scores = [s for (_, _, s) in pos]\n",
    "neg_scores = [s for (_, _, s) in neg]\n",
    "\n",
    "scorer = es.exp_scores.create_from_samples(\n",
    "            pos_scores, neg_scores\n",
    "        )"
   ]
  },
  {
   "cell_type": "code",
   "execution_count": null,
   "metadata": {},
   "outputs": [],
   "source": []
  },
  {
   "cell_type": "code",
   "execution_count": 17,
   "metadata": {},
   "outputs": [],
   "source": [
    "# pos_scores_all = []\n",
    "# neg_scores_all = []\n",
    "# edge_nodes = [(n1, n2) for (n1, n2, _) in verifier_edges]\n",
    "# i = 0\n",
    "# print(\"getting reviews\")\n",
    "# reviews, quit_lca = human_reviewer(edge_nodes)\n",
    "# print(\"got\")\n",
    "# for ((_, _, b), (_, _, s)) in zip(reviews, verifier_edges):\n",
    "#     if b:\n",
    "#         pos_scores_all.append(s)\n",
    "#     else:\n",
    "#         neg_scores_all.append(s)\n",
    "# print(\"fin\")"
   ]
  },
  {
   "cell_type": "code",
   "execution_count": 15,
   "metadata": {},
   "outputs": [
    {
     "data": {
      "text/plain": [
       "(array([4.07687580e-03, 4.07687580e-02, 1.75305659e-01, 8.84682048e-01,\n",
       "        2.43797173e+00, 5.53639733e+00, 8.14967472e+00, 8.67559170e+00,\n",
       "        6.66569193e+00, 4.22772020e+00, 2.23005106e+00, 9.41758309e-01,\n",
       "        1.26790837e+00, 2.50727862e+00, 2.58066238e+00, 1.64705782e+00,\n",
       "        1.10483334e+00, 6.44146376e-01, 4.97378847e-01, 4.07687580e-01,\n",
       "        4.68840717e-01, 3.79149449e-01, 4.23995083e-01, 4.15841331e-01,\n",
       "        4.15841331e-01, 4.07687580e-01, 4.40302586e-01, 4.68840717e-01,\n",
       "        4.15841331e-01, 4.60686965e-01, 3.75072573e-01, 2.89458182e-01,\n",
       "        2.81304430e-01, 2.36458796e-01, 6.11531370e-02]),\n",
       " array([0.37685949, 0.3946635 , 0.41246751, 0.43027152, 0.44807553,\n",
       "        0.46587954, 0.48368355, 0.50148757, 0.51929158, 0.53709559,\n",
       "        0.5548996 , 0.57270361, 0.59050762, 0.60831163, 0.62611564,\n",
       "        0.64391966, 0.66172367, 0.67952768, 0.69733169, 0.7151357 ,\n",
       "        0.73293971, 0.75074372, 0.76854773, 0.78635175, 0.80415576,\n",
       "        0.82195977, 0.83976378, 0.85756779, 0.8753718 , 0.89317581,\n",
       "        0.91097982, 0.92878384, 0.94658785, 0.96439186, 0.98219587,\n",
       "        0.99999988]),\n",
       " <BarContainer object of 35 artists>)"
      ]
     },
     "execution_count": 15,
     "metadata": {},
     "output_type": "execute_result"
    },
    {
     "data": {
      "image/png": "[encoded data removed]",
      "text/plain": [
       "<Figure size 432x288 with 1 Axes>"
      ]
     },
     "metadata": {
      "needs_background": "light"
     },
     "output_type": "display_data"
    }
   ],
   "source": [
    "all_scores = [s for (_, _, s) in verifier_edges]\n",
    "\n",
    "plt.hist(all_scores, bins=35, density=True, alpha=0.6, color='g')\n",
    "\n",
    "# plt.hist(pos_scores_all, bins=35, density=True, alpha=0.6, color='g')\n",
    "# plt.hist(neg_scores_all, bins=35, density=True, alpha=0.6, color='r')"
   ]
  },
  {
   "cell_type": "code",
   "execution_count": 28,
   "metadata": {},
   "outputs": [
    {
     "data": {
      "text/plain": [
       "<matplotlib.legend.Legend at 0x7f4774d7ff10>"
      ]
     },
     "execution_count": 28,
     "metadata": {},
     "output_type": "execute_result"
    },
    {
     "data": {
      "image/png": "[encoded data removed]",
      "text/plain": [
       "<Figure size 432x288 with 1 Axes>"
      ]
     },
     "metadata": {
      "needs_background": "light"
     },
     "output_type": "display_data"
    }
   ],
   "source": [
    "plt.hist(pos_scores, bins=35, density=True, alpha=0.6, color='g')\n",
    "plt.hist(neg_scores, bins=35, density=True, alpha=0.6, color='r')\n",
    "xs = np.linspace(0, 1, 100)\n",
    "pos_ys = [scorer.get_pos_neg(x)[0] for x in xs]\n",
    "neg_ys = [scorer.get_pos_neg(x)[1] for x in xs]\n",
    "\n",
    "plt.plot(xs, pos_ys, color='g')\n",
    "plt.plot(xs, neg_ys, color='r')\n",
    "# plt.title(title)\n",
    "\n",
    "plt.xlabel(\"Score\")\n",
    "plt.ylabel(\"Probability density function\")\n",
    "plt.title(\"Elephants\")\n",
    "plt.legend([\"Positive scores\", \"Negative scores\", \"Estimated positive\", \"Estimated negative\"])"
   ]
  },
  {
   "cell_type": "code",
   "execution_count": 20,
   "metadata": {},
   "outputs": [
    {
     "data": {
      "text/plain": [
       "1375"
      ]
     },
     "execution_count": 20,
     "metadata": {},
     "output_type": "execute_result"
    }
   ],
   "source": [
    "len(neg_scores)"
   ]
  }
 ],
 "metadata": {
  "kernelspec": {
   "display_name": "Python 3",
   "language": "python",
   "name": "python3"
  },
  "language_info": {
   "codemirror_mode": {
    "name": "ipython",
    "version": 3
   },
   "file_extension": ".py",
   "mimetype": "text/x-python",
   "name": "python",
   "nbconvert_exporter": "python",
   "pygments_lexer": "ipython3",
   "version": "3.7.12"
  }
 },
 "nbformat": 4,
 "nbformat_minor": 2
}
